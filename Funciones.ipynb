{
 "cells": [
  {
   "cell_type": "markdown",
   "metadata": {
    "slideshow": {
     "slide_type": "slide"
    }
   },
   "source": [
    "<center><img src=\"julia2.png\", width=\"40%\"/>\n",
    "<h1>Funciones</h1><br /></center>"
   ]
  },
  {
   "cell_type": "markdown",
   "metadata": {
    "slideshow": {
     "slide_type": "slide"
    }
   },
   "source": [
    "### Funciones al \"modo matemático\"\n",
    "\n",
    "\n",
    "En matemáticas es muy común construir una función con una **expresión algebraica**. Esta forma se puede utilizar exactamente igual en Julia."
   ]
  },
  {
   "cell_type": "markdown",
   "metadata": {
    "slideshow": {
     "slide_type": "slide"
    }
   },
   "source": [
    "<div class=\"alert alert-success\"> \n",
    "<font size=\"5\">\n",
    "    \n",
    "* Contruye la función de una variable:\n",
    "\n",
    "$$\n",
    "f(x) = x \\cdot \\sin(x)\n",
    "$$\n",
    "\n",
    "* Calcula algunos valores para comprobar su funcionamiento.\n",
    "\n",
    "</div>\n"
   ]
  },
  {
   "cell_type": "code",
   "execution_count": null,
   "metadata": {},
   "outputs": [],
   "source": []
  },
  {
   "cell_type": "markdown",
   "metadata": {
    "slideshow": {
     "slide_type": "slide"
    }
   },
   "source": [
    "<div class=\"alert alert-success\"> \n",
    "<font size=\"5\">\n",
    "    \n",
    "* Contruye la función de dos variables:\n",
    "\n",
    "$$\n",
    "g(x,y ) = x^2 + y^2\n",
    "$$\n",
    "\n",
    "* Calcula algunos valores para comprobar su funcionamiento.\n",
    "\n",
    "</div>"
   ]
  },
  {
   "cell_type": "code",
   "execution_count": null,
   "metadata": {},
   "outputs": [],
   "source": []
  },
  {
   "cell_type": "markdown",
   "metadata": {
    "slideshow": {
     "slide_type": "slide"
    }
   },
   "source": [
    "### La estructura de una función\n",
    "\n",
    "El **modo general de construir funciones** es sin embargo el que se adapta al siguiente patrón:\n",
    "\n",
    "```julia\n",
    "function nombre_funcion(argumentos)\n",
    "    cuerpo_de_la_funcion\n",
    "    return valor\n",
    "end\n",
    "```\n",
    "\n",
    "`function`  indica el comienzo\n",
    "de la definición de una función. `return` señala el valor que va a devolver la función al ser\n",
    "invocada. `end` señala el final de la función."
   ]
  },
  {
   "cell_type": "markdown",
   "metadata": {
    "slideshow": {
     "slide_type": "slide"
    }
   },
   "source": [
    "<div class=\"alert alert-success\"> \n",
    "<font size=\"5\">\n",
    "   \n",
    "* Comprueba que `function`, `return` y `end` son palabras clave.   \n",
    "   \n",
    "* Construye la función, utilizando la estructura general:\n",
    "\n",
    "$$\n",
    "g(x,y ) = x^2 + y^2\n",
    "$$\n",
    "\n",
    "\n",
    "</div>"
   ]
  },
  {
   "cell_type": "code",
   "execution_count": 43,
   "metadata": {},
   "outputs": [
    {
     "data": {
      "text/plain": [
       "113"
      ]
     },
     "execution_count": 43,
     "metadata": {},
     "output_type": "execute_result"
    }
   ],
   "source": [
    "function g(x,y)\n",
    "    valor = x^2 + y^2\n",
    "    return valor\n",
    "end\n",
    "g(7,8)"
   ]
  },
  {
   "cell_type": "markdown",
   "metadata": {
    "slideshow": {
     "slide_type": "slide"
    }
   },
   "source": [
    "### Las variables locales\n",
    "\n",
    "En la función anterior hemos definido la variable `valor`. Como esta variable está definida dentro de una función, decimos que es una **variable local**. Con las variables locales se puede operar dentro de las funciones, pero no son reconocidas fuera de ella.\n",
    "\n",
    "Decimos que su **alcance** (**scope** en inglés) es únicamente la función donde han sido definidas."
   ]
  },
  {
   "cell_type": "markdown",
   "metadata": {
    "slideshow": {
     "slide_type": "slide"
    }
   },
   "source": [
    "<div class=\"alert alert-success\"> \n",
    "<font size=\"5\">\n",
    "    \n",
    "* Considera la función definida anteriormente, y comprueba que llamar a la variable `valor` fuera de la variable da lugar a un error.\n",
    "\n",
    "```julia\n",
    "function g(x,y)\n",
    "    valor = x^2 + y^2\n",
    "    return valor\n",
    "end\n",
    "```\n",
    "\n",
    "</div>"
   ]
  },
  {
   "cell_type": "code",
   "execution_count": 44,
   "metadata": {},
   "outputs": [
    {
     "name": "stdout",
     "output_type": "stream",
     "text": [
      "hola\n"
     ]
    }
   ],
   "source": [
    "a = println(\"hola\")"
   ]
  },
  {
   "cell_type": "markdown",
   "metadata": {
    "slideshow": {
     "slide_type": "slide"
    }
   },
   "source": [
    "### Funciones sin retorno y con retorno\n",
    "\n",
    "La función `println()` es una función que **ejecuta una acción pero que no devuelve ningún valor utilizable**. Decimos que `println()` es una función sin retorno (o que devuelve `nothing`).\n",
    "\n",
    "La función matemática `sin()` devuelve siempre un valor de tipo `float()`. Decimos que esta función si tiene retorno.\n",
    "\n",
    "Para construir una función sin retorno tecleamos únicamente `return`.\n"
   ]
  },
  {
   "cell_type": "markdown",
   "metadata": {
    "slideshow": {
     "slide_type": "slide"
    }
   },
   "source": [
    "<div class=\"alert alert-success\"> \n",
    "<font size=\"5\">\n",
    "    \n",
    "* Comprueba que `println()` es una función sin retorno y que `sin()` retorna siempre un valor de tipo float.\n",
    "\n",
    "* Crea una función llamada `repite()` que no tenga ningún argumento y que únicamente imprima dos veces la palabra \"hola\".\n",
    "\n",
    "</div>"
   ]
  },
  {
   "cell_type": "code",
   "execution_count": 45,
   "metadata": {},
   "outputs": [
    {
     "name": "stdout",
     "output_type": "stream",
     "text": [
      "Hola\n",
      "Hola\n"
     ]
    },
    {
     "data": {
      "text/plain": [
       "Nothing"
      ]
     },
     "execution_count": 45,
     "metadata": {},
     "output_type": "execute_result"
    }
   ],
   "source": [
    "function repite()\n",
    "    println(\"Hola\")\n",
    "    println(\"Hola\")\n",
    "    return\n",
    "end\n",
    "a = repite()\n",
    "typeof(a)"
   ]
  },
  {
   "cell_type": "markdown",
   "metadata": {
    "slideshow": {
     "slide_type": "slide"
    }
   },
   "source": [
    "<div class=\"alert alert-success\"> \n",
    "<font size=\"5\">\n",
    "    \n",
    "* Crea una función con dos argumentos que devuelva el área de un rectángulo. \n",
    "\n",
    "* Comprueba que el tipo devuelto depende del tipo de dato de los argumentos.\n",
    "\n",
    "</div>"
   ]
  },
  {
   "cell_type": "code",
   "execution_count": 46,
   "metadata": {},
   "outputs": [
    {
     "data": {
      "text/plain": [
       "area_triangulo (generic function with 1 method)"
      ]
     },
     "execution_count": 46,
     "metadata": {},
     "output_type": "execute_result"
    }
   ],
   "source": [
    "function area_triangulo(base, altura)\n",
    "    area = base * altura\n",
    "    return area\n",
    "end"
   ]
  },
  {
   "cell_type": "markdown",
   "metadata": {},
   "source": [
    "### Funciones sin la palabra `return`\n",
    "\n",
    "Si en una función no utilizamos la sentencia `return`, dicha función devuelve el resultado que proporciona la última de las sentencias de la función. No es una buena práctica omitir la sentencia `return`."
   ]
  },
  {
   "cell_type": "markdown",
   "metadata": {
    "slideshow": {
     "slide_type": "slide"
    }
   },
   "source": [
    "<div class=\"alert alert-success\"> \n",
    "<font size=\"5\">\n",
    "    \n",
    "Crea una función que calcule el área de un cuadrado sin utilizar la sentencia `return`.\n",
    "\n",
    "</div>"
   ]
  },
  {
   "cell_type": "code",
   "execution_count": 47,
   "metadata": {},
   "outputs": [
    {
     "data": {
      "text/plain": [
       "area (generic function with 2 methods)"
      ]
     },
     "execution_count": 47,
     "metadata": {},
     "output_type": "execute_result"
    }
   ],
   "source": [
    "function area(x)\n",
    "    area = x * x\n",
    "end"
   ]
  },
  {
   "cell_type": "markdown",
   "metadata": {
    "slideshow": {
     "slide_type": "slide"
    }
   },
   "source": [
    "### Funciones que devuelven varios valores\n",
    "\n",
    "Si queremos que una función devuelva varios valores debemos escribirlos después de la sentencia `return`, separando por comas cada valor.\n",
    "\n",
    "Podemos capturar cada valor en una variable, escribiendo las variables separadas por comas."
   ]
  },
  {
   "cell_type": "markdown",
   "metadata": {
    "slideshow": {
     "slide_type": "slide"
    }
   },
   "source": [
    "<div class=\"alert alert-success\"> \n",
    "<font size=\"5\">\n",
    "    \n",
    "* Crea una función a la que se le pasan por valores. Esta función calcula la suma y la multiplicación de ambos valores y los devuelve.\n",
    "\n",
    "* Captura en variables dichos valores.\n",
    "\n",
    "</div>"
   ]
  },
  {
   "cell_type": "code",
   "execution_count": 48,
   "metadata": {},
   "outputs": [
    {
     "data": {
      "text/plain": [
       "28"
      ]
     },
     "execution_count": 48,
     "metadata": {},
     "output_type": "execute_result"
    }
   ],
   "source": [
    "function f(x,y)\n",
    "    suma = x + y\n",
    "    mult = x * y\n",
    "    return suma, mult\n",
    "end\n",
    "a,b = f(4,7)\n",
    "b"
   ]
  },
  {
   "cell_type": "markdown",
   "metadata": {
    "slideshow": {
     "slide_type": "slide"
    }
   },
   "source": [
    "### Funciones con valores por defecto\n",
    "\n",
    "En algunas funciones, si no es especifica algún argumento, Julia toma por defecto un cierto valor. Para ello debemos escribir un signo igual al valor por defecto en la definición de la función."
   ]
  },
  {
   "cell_type": "markdown",
   "metadata": {
    "slideshow": {
     "slide_type": "slide"
    }
   },
   "source": [
    "<div class=\"alert alert-success\"> \n",
    "<font size=\"5\">\n",
    "    \n",
    "Crea una función que calcule el área de un rectángulo. Por defecto la altura del rectángulo debe de ser 10.\n",
    "\n",
    "</div>"
   ]
  },
  {
   "cell_type": "code",
   "execution_count": 49,
   "metadata": {},
   "outputs": [
    {
     "data": {
      "text/plain": [
       "area (generic function with 2 methods)"
      ]
     },
     "execution_count": 49,
     "metadata": {},
     "output_type": "execute_result"
    }
   ],
   "source": [
    "function area(base, altura = 10)\n",
    "    valor = base * altura\n",
    "    return valor\n",
    "end\n"
   ]
  },
  {
   "cell_type": "code",
   "execution_count": 57,
   "metadata": {},
   "outputs": [
    {
     "data": {
      "text/plain": [
       "Dict{String,Union{Nothing, VersionNumber}} with 3 entries:\n",
       "  \"IJulia\" => v\"1.17.0\"\n",
       "  \"Plots\"  => v\"0.23.0\"\n",
       "  \"Primes\" => v\"0.4.0\""
      ]
     },
     "execution_count": 57,
     "metadata": {},
     "output_type": "execute_result"
    }
   ],
   "source": [
    "Pkg.installed()"
   ]
  },
  {
   "cell_type": "markdown",
   "metadata": {
    "slideshow": {
     "slide_type": "slide"
    }
   },
   "source": [
    "<center><h1>Fin</h1></center>\n",
    "<center><small>github.com/jltabara/JuliaBasico</small></center>"
   ]
  },
  {
   "cell_type": "code",
   "execution_count": null,
   "metadata": {
    "slideshow": {
     "slide_type": "slide"
    }
   },
   "outputs": [],
   "source": []
  }
 ],
 "metadata": {
  "celltoolbar": "Slideshow",
  "kernelspec": {
   "display_name": "Julia 1.1.0",
   "language": "julia",
   "name": "julia-1.1"
  },
  "language_info": {
   "file_extension": ".jl",
   "mimetype": "application/julia",
   "name": "julia",
   "version": "1.1.0"
  }
 },
 "nbformat": 4,
 "nbformat_minor": 2
}

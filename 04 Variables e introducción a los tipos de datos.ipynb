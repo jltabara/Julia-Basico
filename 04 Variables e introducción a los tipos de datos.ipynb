{
 "cells": [
  {
   "cell_type": "markdown",
   "metadata": {
    "slideshow": {
     "slide_type": "slide"
    }
   },
   "source": [
    "<center><img src=\"julia2.png\", width=\"40%\"/><h1>Variables e introducción a los tipos de datos</h1><br /></center>"
   ]
  },
  {
   "cell_type": "markdown",
   "metadata": {
    "slideshow": {
     "slide_type": "slide"
    }
   },
   "source": [
    "### Creación de variables\n",
    "\n",
    "Para crear una variable tenemos que escribir el **nombre de la variable, después un signo igual y a la derecha el valor** que queremos guardar en dicha variable. Para imprimir el contenido de una variable escribimos el **nombre de la variable sin comillas**.\n",
    "\n",
    "Se pueden inicializar varias variable al mismo tiempo."
   ]
  },
  {
   "cell_type": "markdown",
   "metadata": {
    "slideshow": {
     "slide_type": "slide"
    }
   },
   "source": [
    "<div class=\"alert alert-success\">\n",
    "<font size=\"5\">\n",
    "\n",
    "Guarda el número 56 en una variable de nombre `numero` e imprímela por pantalla.\n",
    "\n",
    "</div>"
   ]
  },
  {
   "cell_type": "code",
   "execution_count": 2,
   "metadata": {},
   "outputs": [
    {
     "name": "stdout",
     "output_type": "stream",
     "text": [
      "56\n"
     ]
    }
   ],
   "source": [
    "println(numero)"
   ]
  },
  {
   "cell_type": "markdown",
   "metadata": {
    "slideshow": {
     "slide_type": "slide"
    }
   },
   "source": [
    "<div class=\"alert alert-success\">\n",
    "<font size=\"5\">\n",
    "\n",
    "Guarda los valores 56 y 45 en dos variables, inicializándolas al mismo tiempo, y realiza operaciones con dichas variables.\n",
    "\n",
    "</div>"
   ]
  },
  {
   "cell_type": "code",
   "execution_count": 4,
   "metadata": {},
   "outputs": [
    {
     "data": {
      "text/plain": [
       "2520"
      ]
     },
     "execution_count": 4,
     "metadata": {},
     "output_type": "execute_result"
    }
   ],
   "source": [
    "num1 = 45\n",
    "num2 = 56\n",
    "num1 * num2"
   ]
  },
  {
   "cell_type": "markdown",
   "metadata": {
    "slideshow": {
     "slide_type": "slide"
    }
   },
   "source": [
    "### Texto y variables\n",
    "\n",
    "En una misma sentencia `println()` podemos imprimir **a la vez texto y variables**. Para ello debemos interpolar la variable en el texto. Esto se consigue escribiendo el signo de dolar delante del nombre de la variable."
   ]
  },
  {
   "cell_type": "markdown",
   "metadata": {
    "slideshow": {
     "slide_type": "slide"
    }
   },
   "source": [
    "<div class=\"alert alert-success\">\n",
    "<font size=\"5\">\n",
    "\n",
    "Imprime las variables anteriores con algo de texto.\n",
    "\n",
    "</div>"
   ]
  },
  {
   "cell_type": "code",
   "execution_count": 5,
   "metadata": {},
   "outputs": [
    {
     "name": "stdout",
     "output_type": "stream",
     "text": [
      "El número es 90. Y puedo escribir más\n"
     ]
    }
   ],
   "source": [
    "num1 = 90\n",
    "println(\"El número es $num1. Y puedo escribir más\")"
   ]
  },
  {
   "cell_type": "markdown",
   "metadata": {
    "slideshow": {
     "slide_type": "slide"
    }
   },
   "source": [
    "### Los nombres de las  variables\n",
    "\n",
    "Los nombres de las variables tienen las restricciones:\n",
    "\n",
    "* Los nombres no pueden **comenzar** por números\n",
    "\n",
    "* Los nombres no pueden **contener espacios en blanco**.\n",
    "\n",
    "* Recordar que Julia diferencia mayúsculas y  minúsculas.\n",
    "\n",
    "* No se pueden utilizar palabras reservadas como nombres de variables."
   ]
  },
  {
   "cell_type": "markdown",
   "metadata": {
    "slideshow": {
     "slide_type": "slide"
    }
   },
   "source": [
    "<div class=\"alert alert-success\">\n",
    "<font size=\"5\">\n",
    "\n",
    "Introduce nombres de variables incorrectos y analiza los errores.\n",
    "\n",
    "</div>"
   ]
  },
  {
   "cell_type": "code",
   "execution_count": 11,
   "metadata": {},
   "outputs": [
    {
     "data": {
      "text/plain": [
       "π = 3.1415926535897..."
      ]
     },
     "execution_count": 11,
     "metadata": {},
     "output_type": "execute_result"
    }
   ],
   "source": [
    "pi"
   ]
  },
  {
   "cell_type": "markdown",
   "metadata": {
    "slideshow": {
     "slide_type": "slide"
    }
   },
   "source": [
    "### Convenio para escribir variables\n",
    "\n",
    "* Escribiremos los nombres de variables en minúsculas.\n",
    "\n",
    "* Para separar palabras se utiliza el guión bajo.\n",
    "\n",
    "* El símbolo `!` solamente se debe emplear en casos especiales.\n",
    "\n",
    "* Aunque se pueden utilizar muchos caracteres Unicode en los nombres, es aconsejable no hacerlo."
   ]
  },
  {
   "cell_type": "markdown",
   "metadata": {
    "slideshow": {
     "slide_type": "slide"
    }
   },
   "source": [
    "<div class=\"alert alert-success\">\n",
    "<font size=\"5\">\n",
    "\n",
    "Escribe variables con caracteres no recomendables.\n",
    "\n",
    "</div>"
   ]
  },
  {
   "cell_type": "code",
   "execution_count": 18,
   "metadata": {},
   "outputs": [
    {
     "name": "stdout",
     "output_type": "stream",
     "text": [
      "99\n"
     ]
    }
   ],
   "source": [
    "δ = 90\n",
    "println(δ+ 9)\n"
   ]
  },
  {
   "cell_type": "markdown",
   "metadata": {
    "slideshow": {
     "slide_type": "slide"
    }
   },
   "source": [
    "### El tipo de dato de las variables\n",
    "\n",
    "Cada dato en Julia tiene asociado un **tipo de dato**. Para conocer el tipo de dato utilizamos la función `typeof()`. Se puede utilizar sobre datos o sobre las variables que contienen el dato."
   ]
  },
  {
   "cell_type": "markdown",
   "metadata": {
    "slideshow": {
     "slide_type": "slide"
    }
   },
   "source": [
    "<div class=\"alert alert-success\">\n",
    "<font size=\"5\">\n",
    "\n",
    "Encuentra el tipo de dato de:\n",
    "\n",
    "$$\n",
    "a)\\, 45 \\qquad b)\\,  34.89 \\qquad c)\\, \\texttt{\"Hola mundo\"}\n",
    "$$\n",
    "\n",
    "</div>"
   ]
  },
  {
   "cell_type": "code",
   "execution_count": 14,
   "metadata": {},
   "outputs": [
    {
     "data": {
      "text/plain": [
       "String"
      ]
     },
     "execution_count": 14,
     "metadata": {},
     "output_type": "execute_result"
    }
   ],
   "source": [
    "typeof(\"Hola mundo\")"
   ]
  },
  {
   "cell_type": "markdown",
   "metadata": {
    "slideshow": {
     "slide_type": "slide"
    }
   },
   "source": [
    "### El tipado dinámico\n",
    "\n",
    "Una variable contener un tipo de dato y a lo largo del programa puede contener otro tipo de dato. Los lenguajes que admiten esta circunstancia se dice que tienen **tipado dinámico**."
   ]
  },
  {
   "cell_type": "markdown",
   "metadata": {
    "slideshow": {
     "slide_type": "slide"
    }
   },
   "source": [
    "<div class=\"alert alert-success\">\n",
    "<font size=\"5\">\n",
    "\n",
    "Crea una variable y asígnale distinto tipos de datos, comprobando que no se produce ningún error.\n",
    "\n",
    "</div>"
   ]
  },
  {
   "cell_type": "code",
   "execution_count": 22,
   "metadata": {},
   "outputs": [
    {
     "data": {
      "text/plain": [
       "\"Hola\""
      ]
     },
     "execution_count": 22,
     "metadata": {},
     "output_type": "execute_result"
    }
   ],
   "source": [
    "a = 909\n",
    "a = 90.7777\n",
    "a = \"Hola\""
   ]
  },
  {
   "cell_type": "markdown",
   "metadata": {
    "slideshow": {
     "slide_type": "slide"
    }
   },
   "source": [
    "### El nuevo tipo de dato *BigInt*\n",
    "\n",
    "Utilizando la función `BigInt()` podemos crear enteros de precisión infinita. Operar con este tipo de números es mas lento.\n"
   ]
  },
  {
   "cell_type": "markdown",
   "metadata": {
    "slideshow": {
     "slide_type": "slide"
    }
   },
   "source": [
    "\n",
    "<div class=\"alert alert-success\">\n",
    "<font size=\"5\">\n",
    "\n",
    "* Construye enteros de precisión infinita con la función `BigInt()`.\n",
    "\n",
    "* Calcula su tipo de dato.\n",
    "\n",
    "* Realiza potencias y factoriales con el nuevo dato.\n",
    "\n",
    "</div>"
   ]
  },
  {
   "cell_type": "code",
   "execution_count": 29,
   "metadata": {},
   "outputs": [
    {
     "data": {
      "text/plain": [
       "1920"
      ]
     },
     "execution_count": 29,
     "metadata": {},
     "output_type": "execute_result"
    }
   ],
   "source": [
    "a = BigInt(1920)"
   ]
  },
  {
   "cell_type": "code",
   "execution_count": null,
   "metadata": {},
   "outputs": [],
   "source": []
  },
  {
   "cell_type": "markdown",
   "metadata": {
    "slideshow": {
     "slide_type": "slide"
    }
   },
   "source": [
    "### El tipo de dato *Int8*\n",
    "\n",
    "Julia por defecto utiliza 64 bits para almacenar enteros. Algunas veces eso es una pérdida de espacio y de rendimiento. El tipo de dato `Int8` ocupa únicamente un byte, pero presenta problemas de *overflow*.\n",
    "\n",
    "Para crear un entero de eso tipo utilizamos la función `Int8()`.\n",
    "\n",
    "Para conocer el tamaño de un tipo de dato usamos `sizeof()`."
   ]
  },
  {
   "cell_type": "markdown",
   "metadata": {
    "slideshow": {
     "slide_type": "slide"
    }
   },
   "source": [
    "<div class=\"alert alert-success\">\n",
    "<font size=\"5\">\n",
    "\n",
    "* Crea un entero de tipo `Int8`.  Comprueba su tipo y su tamaño en memoria.\n",
    "\n",
    "* Calcula el máximo y el mínimo del tipo de dato.\n",
    "\n",
    "* Problemas con el *overflow*.\n",
    "\n",
    "</div>"
   ]
  },
  {
   "cell_type": "code",
   "execution_count": 40,
   "metadata": {},
   "outputs": [
    {
     "data": {
      "text/plain": [
       "16"
      ]
     },
     "execution_count": 40,
     "metadata": {},
     "output_type": "execute_result"
    }
   ],
   "source": [
    "a = Int8(34)\n",
    "a^4\n"
   ]
  },
  {
   "cell_type": "markdown",
   "metadata": {
    "slideshow": {
     "slide_type": "slide"
    }
   },
   "source": [
    "<center><h1>Fin</h1></center>\n",
    "<center><small>github.com/jltabara/JuliaBasico</small></center>"
   ]
  },
  {
   "cell_type": "code",
   "execution_count": null,
   "metadata": {
    "slideshow": {
     "slide_type": "slide"
    }
   },
   "outputs": [],
   "source": []
  }
 ],
 "metadata": {
  "celltoolbar": "Slideshow",
  "kernelspec": {
   "display_name": "Julia 1.1.0",
   "language": "julia",
   "name": "julia-1.1"
  },
  "language_info": {
   "file_extension": ".jl",
   "mimetype": "application/julia",
   "name": "julia",
   "version": "1.1.0"
  }
 },
 "nbformat": 4,
 "nbformat_minor": 2
}

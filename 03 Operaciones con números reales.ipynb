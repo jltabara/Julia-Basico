{
 "cells": [
  {
   "cell_type": "markdown",
   "metadata": {
    "slideshow": {
     "slide_type": "slide"
    }
   },
   "source": [
    "<center><img src=\"julia2.png\", width=\"40%\"/><h1>Números reales</h1></center>"
   ]
  },
  {
   "cell_type": "markdown",
   "metadata": {
    "slideshow": {
     "slide_type": "slide"
    }
   },
   "source": [
    "### El separador de la parte decimal\n",
    "\n",
    "Julia también trabaja con números reales. **El separador de la parte entera y decimal es el punto**, como es habitual en los países anglosajones."
   ]
  },
  {
   "cell_type": "markdown",
   "metadata": {
    "slideshow": {
     "slide_type": "slide"
    }
   },
   "source": [
    "<div class=\"alert alert-success\">\n",
    "<font size=\"5\">\n",
    "    \n",
    "Realiza las operaciones:\n",
    "\n",
    "$$\n",
    "a)\\, 45,903 \\cdot 23,4 \\qquad b)\\, 56,7 \\cdot 5,8^3\n",
    "$$\n",
    "\n",
    "</div>"
   ]
  },
  {
   "cell_type": "code",
   "execution_count": 3,
   "metadata": {},
   "outputs": [
    {
     "data": {
      "text/plain": [
       "11062.8504"
      ]
     },
     "execution_count": 3,
     "metadata": {},
     "output_type": "execute_result"
    }
   ],
   "source": [
    "56.7 * 5.8^3"
   ]
  },
  {
   "cell_type": "markdown",
   "metadata": {
    "slideshow": {
     "slide_type": "slide"
    }
   },
   "source": [
    "### Los errores en los números decimales\n",
    "\n",
    "Cuando Julia trabaja con números decimales puede **cometer pequeños errores**. Estos son debidos a la forma en que el ordenador guarda los números con decimales en la memoria.\n",
    "\n",
    "Con las funciones `nextfloat()` y `prevfloat()` se puede ver la razón de este tipo de errores."
   ]
  },
  {
   "cell_type": "markdown",
   "metadata": {
    "slideshow": {
     "slide_type": "slide"
    }
   },
   "source": [
    "<div class=\"alert alert-success\">\n",
    "<font size=\"5\">\n",
    "    \n",
    "* Realiza las operaciones:\n",
    "\n",
    "$$\n",
    "a)\\,  8,97-3 \\qquad b)\\, 34.7^{23}\n",
    "$$\n",
    "\n",
    "* Calcula el siguiente número decimal a $8,97$.\n",
    "\n",
    "</div>"
   ]
  },
  {
   "cell_type": "code",
   "execution_count": 15,
   "metadata": {},
   "outputs": [
    {
     "data": {
      "text/plain": [
       "8.970000000000002"
      ]
     },
     "execution_count": 15,
     "metadata": {},
     "output_type": "execute_result"
    }
   ],
   "source": [
    "nextfloat(8.97)"
   ]
  },
  {
   "cell_type": "markdown",
   "metadata": {
    "slideshow": {
     "slide_type": "slide"
    }
   },
   "source": [
    "### La notación científica\n",
    "\n",
    "* Como hemos visto en el cálculo anterior, cuando los números son muy grandes o muy cercanos a cero Julia utiliza la **notación científica**. \n",
    "\n",
    "* También se pueden introducir números en notación científica y operar con ellos. Para ello debemos escribir una letra `e` entre la parte decimal y el exponente al que va elevado 10."
   ]
  },
  {
   "cell_type": "markdown",
   "metadata": {
    "slideshow": {
     "slide_type": "slide"
    }
   },
   "source": [
    "<div class=\"alert alert-success\">\n",
    "<font size=\"5\">\n",
    "    \n",
    "Realiza las siguientes operaciones en notación científica:\n",
    "\n",
    "$$\n",
    "a)\\, 1,4 \\cdot 10^5 - 890 \\qquad b)\\, 3,4 \\cdot 10^{-7} / 35, 8\n",
    "$$\n",
    "\n",
    "</div>\n"
   ]
  },
  {
   "cell_type": "code",
   "execution_count": 17,
   "metadata": {},
   "outputs": [
    {
     "data": {
      "text/plain": [
       "9.497206703910614e-9"
      ]
     },
     "execution_count": 17,
     "metadata": {},
     "output_type": "execute_result"
    }
   ],
   "source": [
    "3.4e-7 / 35.8"
   ]
  },
  {
   "cell_type": "markdown",
   "metadata": {},
   "source": [
    "### Los diversos tipos de redondeo\n",
    "\n",
    "La función `round()` redondea al entero más cercano. La función `floor()` (suelo) redondea al entero situado a la izquierda del número. Sin embargo la función `ceil()` redondea al entero situado a la derecha. La función `trunc()` simplente elimina los decimales."
   ]
  },
  {
   "cell_type": "markdown",
   "metadata": {},
   "source": [
    "<div class=\"alert alert-success\">\n",
    "<font size=\"5\">\n",
    "    \n",
    "* Redondea con las distintas funciones los números:\n",
    "\n",
    "$$\n",
    "a)\\, 3.678 \\qquad b)\\, -5,32\n",
    "$$\n",
    "` \n",
    "* Utilizando  el modificador `digits` redondea con distintos número de cifras el número\n",
    "\n",
    "$$\n",
    "4,7891\n",
    "$$\n",
    "\n",
    "\n",
    "\n",
    "</div>"
   ]
  },
  {
   "cell_type": "markdown",
   "metadata": {
    "slideshow": {
     "slide_type": "slide"
    }
   },
   "source": [
    "### Las constantes predefinidas\n",
    "\n",
    "Existen varias constantes matemáticas que Julia conoce. En particular `pi` nos da el número $\\pi$ y `e` es el famoso número $e$. Para obtener el número $e$ debemos escribir `\\euler` y pulsar el tabulador."
   ]
  },
  {
   "cell_type": "markdown",
   "metadata": {
    "slideshow": {
     "slide_type": "slide"
    }
   },
   "source": [
    "<div class=\"alert alert-success\">\n",
    "<font size=\"5\">\n",
    "    \n",
    "Calcula:\n",
    "\n",
    "$$\n",
    "a)\\, 2 \\cdot \\pi \\cdot 12 \\qquad b)\\, 4\\pi^2-e \\qquad c)\\, e^\\pi\n",
    "$$\n",
    "\n",
    "</div>"
   ]
  },
  {
   "cell_type": "code",
   "execution_count": null,
   "metadata": {},
   "outputs": [],
   "source": []
  },
  {
   "cell_type": "markdown",
   "metadata": {
    "slideshow": {
     "slide_type": "slide"
    }
   },
   "source": [
    "### Cálculo de raíces\n",
    "\n",
    "* Para calcular la **raíz cuadrada** disponemos de la función `sqrt()`  y para la **raíz cúbica** la función `cbrt()`.  Para el **resto de la raíces** debemos utilizar las potencias:\n",
    "\n",
    "$$\n",
    "\\sqrt[n]{a} = a^\\frac{1}{n}\n",
    "$$\n",
    "\n",
    "* El resultado del cálculo de una raíz es **siempre un número decimal**."
   ]
  },
  {
   "cell_type": "markdown",
   "metadata": {
    "slideshow": {
     "slide_type": "slide"
    }
   },
   "source": [
    "<div class=\"alert alert-success\">\n",
    "<font size=\"5\">\n",
    "    \n",
    "Calcula:\n",
    "\n",
    "$$\n",
    "a)\\, \\sqrt{4} \\qquad b)\\, \\sqrt[3]{45} \\qquad c)\\, \\sqrt[5]{67}\n",
    "$$\n",
    "\n",
    "</div>\n"
   ]
  },
  {
   "cell_type": "code",
   "execution_count": 29,
   "metadata": {},
   "outputs": [
    {
     "data": {
      "text/plain": [
       "3.5539933576267324"
      ]
     },
     "execution_count": 29,
     "metadata": {},
     "output_type": "execute_result"
    }
   ],
   "source": [
    "567^(1/5)"
   ]
  },
  {
   "cell_type": "markdown",
   "metadata": {
    "slideshow": {
     "slide_type": "slide"
    }
   },
   "source": [
    "### Representación de los números decimales en memoria.\n",
    "\n",
    "* Para obtener la **representación en memoria** de éstos números se utiliza también la función `bitstring()`.\n",
    "\n",
    "* Sin embargo el modo en que los decimales se guardan en memoria es bastante más complicado que el de los enteros (el que lo quiera entender debe buscar información sobre la **norma IEEE754**).\n",
    "\n",
    "* El estudio de esta forma de almacenar los números **explica los pequeños errores** que surgen al efectuar operaciones con decimales."
   ]
  },
  {
   "cell_type": "markdown",
   "metadata": {
    "slideshow": {
     "slide_type": "slide"
    }
   },
   "source": [
    "<div class=\"alert alert-success\">\n",
    "<font size=\"5\">\n",
    "    \n",
    "Encuentra la representación en memoria de los números:\n",
    "\n",
    "$$\n",
    "a)\\, 5 \\qquad b)\\, 5.0 \\qquad c)\\, 45.89\n",
    "$$\n",
    "\n",
    "</div>"
   ]
  },
  {
   "cell_type": "markdown",
   "metadata": {},
   "source": [
    "%%% funciones para redondear"
   ]
  },
  {
   "cell_type": "markdown",
   "metadata": {
    "slideshow": {
     "slide_type": "slide"
    }
   },
   "source": [
    "<center><h1>Fin</h1></center>\n",
    "<center><small>github.com/jltabara/JuliaBasico</small></center>"
   ]
  },
  {
   "cell_type": "code",
   "execution_count": null,
   "metadata": {
    "slideshow": {
     "slide_type": "slide"
    }
   },
   "outputs": [],
   "source": []
  },
  {
   "cell_type": "markdown",
   "metadata": {},
   "source": [
    "\n",
    "Funciones para redondear numeros decimales: round, ceil, floor, trunc\n",
    "\n",
    "Comentarios\n",
    "\n",
    "\n",
    "\n",
    "fracciones simplificadas. Operadores numerator y denominator\n",
    "\n",
    "gcd y lcm\n",
    "\n",
    "funciones trigonometricas, exponenciales y logaritmicas\n",
    "\n",
    "La terminación d en las funciones trigonométricas\n",
    "\n",
    "La función sign y la función abs\n",
    "\n",
    "OPeraciones a nivel de bits\n",
    "\n",
    "La notación polinomial para las variables\n",
    "\n"
   ]
  },
  {
   "cell_type": "markdown",
   "metadata": {
    "slideshow": {
     "slide_type": "slide"
    }
   },
   "source": [
    "<center><h1>Fin</h1></center>\n",
    "<center><small>github.com/jltabara/PythonBasico</small></center>"
   ]
  },
  {
   "cell_type": "code",
   "execution_count": 3,
   "metadata": {
    "slideshow": {
     "slide_type": "slide"
    }
   },
   "outputs": [
    {
     "ename": "DivideError",
     "evalue": "DivideError: integer division error",
     "output_type": "error",
     "traceback": [
      "DivideError: integer division error",
      "",
      "Stacktrace:",
      " [1] div(::Int64, ::Int64) at ./int.jl:232",
      " [2] top-level scope at In[3]:1"
     ]
    }
   ],
   "source": [
    "34 ÷ 0"
   ]
  },
  {
   "cell_type": "code",
   "execution_count": null,
   "metadata": {},
   "outputs": [],
   "source": []
  }
 ],
 "metadata": {
  "celltoolbar": "Slideshow",
  "kernelspec": {
   "display_name": "Julia 1.1.0",
   "language": "julia",
   "name": "julia-1.1"
  },
  "language_info": {
   "file_extension": ".jl",
   "mimetype": "application/julia",
   "name": "julia",
   "version": "1.1.0"
  }
 },
 "nbformat": 4,
 "nbformat_minor": 2
}

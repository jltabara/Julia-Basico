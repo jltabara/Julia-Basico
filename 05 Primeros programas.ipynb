{
 "cells": [
  {
   "cell_type": "markdown",
   "metadata": {
    "slideshow": {
     "slide_type": "slide"
    }
   },
   "source": [
    "<center><img src=\"julia2.png\", width=\"40%\"/><h1>Primeros programas</h1><br /></center>"
   ]
  },
  {
   "cell_type": "markdown",
   "metadata": {
    "slideshow": {
     "slide_type": "slide"
    }
   },
   "source": [
    "### Los programas con variables y `println()`\n",
    "\n",
    "Con ayuda de las variables, las operaciones aritméticas y la función `println()` ya podemos crear nuestros primeros programas.\n",
    "\n",
    "Normalmente, cuando el programa es de cierto tamaño, se acostumbra a incluir comentarios para explicar su funcionamiento. Para crear comentarios se utiliza el signo `#`."
   ]
  },
  {
   "cell_type": "markdown",
   "metadata": {
    "slideshow": {
     "slide_type": "slide"
    }
   },
   "source": [
    "<div class=\"alert alert-success\">\n",
    "<font size=\"5\">\n",
    "\n",
    "Crea un programa que calcule el área de un rectángulo. \n",
    "\n",
    "</div>"
   ]
  },
  {
   "cell_type": "code",
   "execution_count": null,
   "metadata": {},
   "outputs": [],
   "source": []
  },
  {
   "cell_type": "markdown",
   "metadata": {
    "slideshow": {
     "slide_type": "slide"
    }
   },
   "source": [
    "<div class=\"alert alert-success\">\n",
    "<font size=\"5\">\n",
    "\n",
    "Crea un programa que calcule el área y el perímetro de un cuadrado.\n",
    "\n",
    "</div>"
   ]
  },
  {
   "cell_type": "code",
   "execution_count": 4,
   "metadata": {},
   "outputs": [
    {
     "name": "stdout",
     "output_type": "stream",
     "text": [
      "El perímetro es 360 y el área es 8100.\n"
     ]
    }
   ],
   "source": [
    "lado = 90\n",
    "perimetro = 4 * lado\n",
    "area = lado * lado\n",
    "\n",
    "println(\"El perímetro es $perimetro y el área es $area.\")"
   ]
  },
  {
   "cell_type": "markdown",
   "metadata": {
    "slideshow": {
     "slide_type": "slide"
    }
   },
   "source": [
    "<div class=\"alert alert-success\">\n",
    "<font size=\"5\">\n",
    "\n",
    "Crea un programa que calcule el área de un círculo.\n",
    "\n",
    "</div>"
   ]
  },
  {
   "cell_type": "code",
   "execution_count": 5,
   "metadata": {},
   "outputs": [
    {
     "name": "stdout",
     "output_type": "stream",
     "text": [
      "153.93804002589985\n"
     ]
    }
   ],
   "source": [
    "radio = 7\n",
    "\n",
    "area = pi * radio^2\n",
    "\n",
    "println(area)"
   ]
  },
  {
   "cell_type": "markdown",
   "metadata": {
    "slideshow": {
     "slide_type": "slide"
    }
   },
   "source": [
    "<div class=\"alert alert-success\">\n",
    "<font size=\"5\">\n",
    "\n",
    "Crea un programa que calcule el precio final de un artículo al que se le aplica un 15\\% de descuento.\n",
    "\n",
    "</div>"
   ]
  },
  {
   "cell_type": "code",
   "execution_count": 8,
   "metadata": {},
   "outputs": [
    {
     "name": "stdout",
     "output_type": "stream",
     "text": [
      "76.5\n"
     ]
    }
   ],
   "source": [
    "precio_inicial = 90\n",
    "\n",
    "descuento = precio_inicial * 15 / 100\n",
    "precio_final = precio_inicial - descuento\n",
    "\n",
    "println(precio_final)"
   ]
  },
  {
   "cell_type": "markdown",
   "metadata": {
    "slideshow": {
     "slide_type": "slide"
    }
   },
   "source": [
    "<div class=\"alert alert-success\">\n",
    "<font size=\"5\">\n",
    "\n",
    "Crea un programa que calcule la nota media de tres notas.\n",
    "\n",
    "</div>"
   ]
  },
  {
   "cell_type": "code",
   "execution_count": 11,
   "metadata": {},
   "outputs": [
    {
     "data": {
      "text/plain": [
       "6.666666666666667"
      ]
     },
     "execution_count": 11,
     "metadata": {},
     "output_type": "execute_result"
    }
   ],
   "source": [
    "nota1 = 5\n",
    "nota2 = 8\n",
    "nota3 = 7\n",
    "\n",
    "final = (nota1 + nota2 + nota3) / 3"
   ]
  },
  {
   "cell_type": "markdown",
   "metadata": {
    "slideshow": {
     "slide_type": "slide"
    }
   },
   "source": [
    "<center><h1>Fin</h1></center>\n",
    "<center><small>github.com/jltabara/JuliaBasico</small></center>"
   ]
  },
  {
   "cell_type": "code",
   "execution_count": null,
   "metadata": {
    "slideshow": {
     "slide_type": "slide"
    }
   },
   "outputs": [],
   "source": []
  }
 ],
 "metadata": {
  "celltoolbar": "Slideshow",
  "kernelspec": {
   "display_name": "Julia 1.1.0",
   "language": "julia",
   "name": "julia-1.1"
  },
  "language_info": {
   "file_extension": ".jl",
   "mimetype": "application/julia",
   "name": "julia",
   "version": "1.1.0"
  }
 },
 "nbformat": 4,
 "nbformat_minor": 2
}

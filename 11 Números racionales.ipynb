{
 "cells": [
  {
   "cell_type": "markdown",
   "metadata": {
    "slideshow": {
     "slide_type": "slide"
    }
   },
   "source": [
    "<center><img src=\"julia2.png\", width=\"40%\"/><h1>Números racionales</h1><br /></center>"
   ]
  },
  {
   "cell_type": "markdown",
   "metadata": {
    "slideshow": {
     "slide_type": "slide"
    }
   },
   "source": [
    "### Construcción de números racionales\n",
    "\n",
    "* Los números racionales en Julia, como en matemáticas, son un cociente de dos números enteros. Para crearlos podemos emplear el operador `//` o bien la función `Rational()`.\n",
    "\n",
    "* Julia siempre muestra los números racionales simplificados.\n",
    "\n",
    "* Los números racionales forman un nuevo tipo: `Rational`."
   ]
  },
  {
   "cell_type": "markdown",
   "metadata": {
    "slideshow": {
     "slide_type": "slide"
    }
   },
   "source": [
    "<div class=\"alert alert-success\">\n",
    "<font size=\"5\">\n",
    "    \n",
    "* Construye los siguientes números racionales, tanto con `//` como con `Rational()`. Calcula su tipo.\n",
    "\n",
    "$$\n",
    "a)\\,\\frac{4}{6} \\qquad b)\\, \\frac{-67}{128}\n",
    "$$\n",
    "\n",
    "</div>"
   ]
  },
  {
   "cell_type": "code",
   "execution_count": null,
   "metadata": {},
   "outputs": [],
   "source": []
  },
  {
   "cell_type": "markdown",
   "metadata": {
    "slideshow": {
     "slide_type": "slide"
    }
   },
   "source": [
    "### Operaciones con racionales\n",
    "\n",
    "* Si en una operación aparecen **sólamente números racionales y números enteros**, entonces el resultado es un número racional.\n",
    "\n",
    "* Si en la operación **aparece algún número real**, entonces el resultado es real.\n",
    "\n",
    "* Podemos transformar cualquier número a decimal empleando la función `float()`."
   ]
  },
  {
   "cell_type": "markdown",
   "metadata": {
    "slideshow": {
     "slide_type": "slide"
    }
   },
   "source": [
    "<div class=\"alert alert-success\">\n",
    "<font size=\"5\">\n",
    "    \n",
    "* Realiza las siguientes operaciones:\n",
    "\n",
    "$$\n",
    "a)\\,\\frac{4}{6} + \\frac{6}{7} \\qquad b)\\, \\left(\\frac{4}{7}\\right)^5\n",
    "$$\n",
    "\n",
    "* Convierte los resultados anteriores a números decimales.\n",
    "\n",
    "</div>"
   ]
  },
  {
   "cell_type": "code",
   "execution_count": null,
   "metadata": {},
   "outputs": [],
   "source": []
  },
  {
   "cell_type": "markdown",
   "metadata": {
    "slideshow": {
     "slide_type": "slide"
    }
   },
   "source": [
    "### Numerador y denominador\n",
    "\n",
    "Con las funciones `numerator()` y `denominator()` podemos obtener el  numerador y el denominador de una fracción. Debemos tener en cuenta que todos los números racionales aparecen simplificados."
   ]
  },
  {
   "cell_type": "markdown",
   "metadata": {
    "slideshow": {
     "slide_type": "slide"
    }
   },
   "source": [
    "<div class=\"alert alert-success\">\n",
    "<font size=\"5\">\n",
    "    \n",
    "Calcula el numerador y denominador de los siguientes números.\n",
    "\n",
    "$$\n",
    "a)\\,\\frac{4}{6} \\qquad b)\\, \\frac{34}{43}\n",
    "$$\n",
    "\n",
    "\n",
    "\n",
    "</div>"
   ]
  },
  {
   "cell_type": "code",
   "execution_count": null,
   "metadata": {},
   "outputs": [],
   "source": []
  },
  {
   "cell_type": "markdown",
   "metadata": {
    "slideshow": {
     "slide_type": "slide"
    }
   },
   "source": [
    "### Los números complejos y los racionales\n",
    "\n",
    "Si empleamos números complejos con partes reales e imaginarias enteras, el resultado es un número complejo con coeficientes racionales."
   ]
  },
  {
   "cell_type": "markdown",
   "metadata": {
    "slideshow": {
     "slide_type": "slide"
    }
   },
   "source": [
    "<div class=\"alert alert-success\">\n",
    "<font size=\"5\">\n",
    "    \n",
    "Realiza las operaciones con números racionales complejos.\n",
    "\n",
    "$$\n",
    "a)\\,\\frac{2+3i}{3-8i} \\qquad b)\\, \\left(\\frac{34}{43} + \\frac{1}{3} i\\right)^3\n",
    "$$\n",
    "\n",
    "\n",
    "\n",
    "</div>"
   ]
  },
  {
   "cell_type": "code",
   "execution_count": null,
   "metadata": {},
   "outputs": [],
   "source": []
  },
  {
   "cell_type": "markdown",
   "metadata": {
    "slideshow": {
     "slide_type": "slide"
    }
   },
   "source": [
    "<center><h1>Fin</h1></center>\n",
    "<center><small>github.com/jltabara/JuliaBasico</small></center>"
   ]
  },
  {
   "cell_type": "code",
   "execution_count": null,
   "metadata": {
    "slideshow": {
     "slide_type": "slide"
    }
   },
   "outputs": [],
   "source": []
  }
 ],
 "metadata": {
  "celltoolbar": "Slideshow",
  "kernelspec": {
   "display_name": "Julia 1.1.0",
   "language": "julia",
   "name": "julia-1.1"
  },
  "language_info": {
   "file_extension": ".jl",
   "mimetype": "application/julia",
   "name": "julia",
   "version": "1.1.0"
  }
 },
 "nbformat": 4,
 "nbformat_minor": 2
}

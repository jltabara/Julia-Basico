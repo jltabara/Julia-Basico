{
 "cells": [
  {
   "cell_type": "markdown",
   "metadata": {
    "slideshow": {
     "slide_type": "slide"
    }
   },
   "source": [
    "<center><img src=\"julia2.png\", width=\"40%\"/><h1>Funciones Trigonométricas, exponenciales y logaritmicas</h1><br /></center>"
   ]
  },
  {
   "cell_type": "markdown",
   "metadata": {
    "slideshow": {
     "slide_type": "slide"
    }
   },
   "source": [
    "### Las funciones trigonométricas\n",
    "\n",
    "* Todas las funciones trigonométricas tienen su argumento en radianes.\n",
    "\n",
    "* A veces se producen pequeños errores en los cálculos.\n",
    "\n",
    "* Si queremos trabajar en grados podemos utilizar la función  `deg2rad()` para transformar de grados a radianes.\n",
    "\n",
    "* Existen un mónton de funciones trigonométricas: `sin()`,  `cos()`, `tan()`, `cot()`,...."
   ]
  },
  {
   "cell_type": "markdown",
   "metadata": {
    "slideshow": {
     "slide_type": "slide"
    }
   },
   "source": [
    "<div class=\"alert alert-success\">\n",
    "<font size=\"5\">\n",
    "\n",
    "* Realiza los siguientes cálculos en radianes. \n",
    "\n",
    "$$\n",
    "a)\\, \\sin(2) \\qquad b)\\, \\cos(\\pi) \\qquad c)\\, \\tan(8.9)\n",
    "$$\n",
    "\n",
    "* Realiza los siguientes cálculos en grados:\n",
    "\n",
    "$$\n",
    "a)\\, \\sin(45^\\mathrm{o}) \\qquad b)\\, \\cos(60^\\mathrm{o})\n",
    "$$\n",
    "\n",
    "* Realiza los cálculos anteriores utilizando el factor de conversión.\n",
    "</div>"
   ]
  },
  {
   "cell_type": "code",
   "execution_count": null,
   "metadata": {},
   "outputs": [],
   "source": []
  },
  {
   "cell_type": "markdown",
   "metadata": {
    "slideshow": {
     "slide_type": "slide"
    }
   },
   "source": [
    "### Los grados y las funciones trigonométricas\n",
    "\n",
    "Si añadimos un sufijo `d` a cada una de las funciones, entonces el cálculo se realiza en grados. Las nuevas funcines se llaman: `sind()`,  `cosd()`."
   ]
  },
  {
   "cell_type": "markdown",
   "metadata": {
    "slideshow": {
     "slide_type": "slide"
    }
   },
   "source": [
    "<div class=\"alert alert-success\">\n",
    "<font size=\"5\">\n",
    "\n",
    "* Realiza los siguientes cálculos en grados:\n",
    "\n",
    "$$\n",
    "a)\\, \\sin(45^\\mathrm{o}) \\qquad b)\\, \\cos(60^\\mathrm{o})\n",
    "$$\n",
    "\n",
    "* Comprueba si son  ciertas la igualdades par algún valor:\n",
    "\n",
    "$$\n",
    "a)\\, \\sin^2(\\alpha) + \\cos^2(\\alpha) = 1 \\qquad b)\\, \\tan(\\alpha) = \\frac{\\sin(\\alpha)}{\\cos(\\alpha)}\n",
    "$$\n",
    "\n",
    "\n",
    "</div>"
   ]
  },
  {
   "cell_type": "markdown",
   "metadata": {},
   "source": [
    "%%%% las funciones inversas"
   ]
  },
  {
   "cell_type": "markdown",
   "metadata": {
    "slideshow": {
     "slide_type": "slide"
    }
   },
   "source": [
    "### La función exponencial\n",
    "\n",
    "La función exponencial se realiza con `exp()`."
   ]
  },
  {
   "cell_type": "markdown",
   "metadata": {
    "slideshow": {
     "slide_type": "slide"
    }
   },
   "source": [
    "### Las funciones logarítmicas\n",
    "\n",
    "Para el cálculo de logaritmos existen muchas funciones: `log()` calcula el logaritmo neperiano, `log10()` en base 10,...\n",
    "\n",
    "La función logaritmo puede admitir dos argumentos. En dicho caso el primero es la base y el segundo es el número al que le queremos calcular el logaritmo."
   ]
  },
  {
   "cell_type": "code",
   "execution_count": 10,
   "metadata": {},
   "outputs": [
    {
     "data": {
      "text/plain": [
       "4.0"
      ]
     },
     "execution_count": 10,
     "metadata": {},
     "output_type": "execute_result"
    }
   ],
   "source": [
    "log(3, 81)"
   ]
  },
  {
   "cell_type": "markdown",
   "metadata": {
    "slideshow": {
     "slide_type": "slide"
    }
   },
   "source": [
    "<div class=\"alert alert-success\">\n",
    "<font size=\"5\">\n",
    "\n",
    "Calcula los siguientes logaritmos:\n",
    "\n",
    "$$\n",
    "a)\\, \\ln(89) \\qquad b)\\, \\log_{10} (3000)\\qquad c)\\, \\log_2(64) \\qquad \\log_3(81)\n",
    "$$\n",
    "\n",
    "</div>"
   ]
  },
  {
   "cell_type": "code",
   "execution_count": null,
   "metadata": {},
   "outputs": [],
   "source": []
  },
  {
   "cell_type": "markdown",
   "metadata": {
    "slideshow": {
     "slide_type": "slide"
    }
   },
   "source": [
    "<center><h1>Fin</h1></center>\n",
    "<center><small>github.com/jltabara/JuliaBasico</small></center>"
   ]
  },
  {
   "cell_type": "code",
   "execution_count": null,
   "metadata": {
    "slideshow": {
     "slide_type": "slide"
    }
   },
   "outputs": [],
   "source": []
  }
 ],
 "metadata": {
  "celltoolbar": "Slideshow",
  "kernelspec": {
   "display_name": "Julia 1.1.0",
   "language": "julia",
   "name": "julia-1.1"
  },
  "language_info": {
   "file_extension": ".jl",
   "mimetype": "application/julia",
   "name": "julia",
   "version": "1.1.0"
  }
 },
 "nbformat": 4,
 "nbformat_minor": 2
}

{
 "cells": [
  {
   "cell_type": "markdown",
   "metadata": {
    "slideshow": {
     "slide_type": "slide"
    }
   },
   "source": [
    "<center><img src=\"julia2.png\", width=\"40%\"/><h1>Array Numéricos</h1><br /></center>"
   ]
  },
  {
   "cell_type": "markdown",
   "metadata": {
    "slideshow": {
     "slide_type": "slide"
    }
   },
   "source": [
    "### Los arrays de una dimensión.\n",
    "\n",
    "Para crear un array de una dimensión escribimos los números que los componen **entre corchetes y separados por comas**. Un array puede contener cualquier cantidad de números.\n",
    "\n",
    "Si todos los valores son enteros, el array es de **tipo entero**, si existe algún float, el array es de **tipo float** y si existe algún número complejo, el array es de **tipo complejo**.\n",
    "\n",
    "El 1 que aparece detrás del tipo indica que es un **array de una dimensión**."
   ]
  },
  {
   "cell_type": "markdown",
   "metadata": {
    "slideshow": {
     "slide_type": "slide"
    }
   },
   "source": [
    "<div class=\"alert alert-success\">\n",
    "<font size=\"5\">\n",
    "    \n",
    "Crea arrays de tipo entero, flotante y complejo. Comprueba su tipo.\n",
    "\n",
    "</div>"
   ]
  },
  {
   "cell_type": "code",
   "execution_count": 4,
   "metadata": {},
   "outputs": [
    {
     "data": {
      "text/plain": [
       "Array{Complex{Float64},1}"
      ]
     },
     "execution_count": 4,
     "metadata": {},
     "output_type": "execute_result"
    }
   ],
   "source": [
    "a = [3, 6.9, 9+5im]\n",
    "typeof(a)"
   ]
  },
  {
   "cell_type": "markdown",
   "metadata": {
    "slideshow": {
     "slide_type": "slide"
    }
   },
   "source": [
    "### Acceder a cada elemento del array\n",
    "\n",
    "Si escribimos el nombre del array y entre corchete un número entero, se muestra el número contenido en dicha posición del array.\n",
    "\n",
    "Para acceder al último elemento utilizamos `end`. También se puede acceder a los índice desde la última posición.\n",
    "\n",
    "**En Julia los índices empiezan en 1**."
   ]
  },
  {
   "cell_type": "markdown",
   "metadata": {
    "slideshow": {
     "slide_type": "slide"
    }
   },
   "source": [
    "<div class=\"alert alert-success\">\n",
    "<font size=\"5\">\n",
    "    \n",
    "Crea el array $a = [4, 6, 7, 9, 90]$ y accede a distintos elementos.\n",
    "\n",
    "</div>"
   ]
  },
  {
   "cell_type": "code",
   "execution_count": null,
   "metadata": {},
   "outputs": [],
   "source": []
  },
  {
   "cell_type": "markdown",
   "metadata": {
    "slideshow": {
     "slide_type": "slide"
    }
   },
   "source": [
    "### Modificar elementos del array\n",
    "\n",
    "Utilizando los índices y el operador de asignación podemos modificar los elementos del array.\n",
    "\n",
    "Los nuevos elementos deben ser del tipo indicado en el array."
   ]
  },
  {
   "cell_type": "markdown",
   "metadata": {
    "slideshow": {
     "slide_type": "slide"
    }
   },
   "source": [
    "<div class=\"alert alert-success\">\n",
    "<font size=\"5\">\n",
    "    \n",
    "* Crea un array de tipo entero y modifica alguno de los elementos.\n",
    "\n",
    "* Intenta escribir números de tipo float y comprueba el tipo de error.\n",
    "\n",
    "</div>"
   ]
  },
  {
   "cell_type": "code",
   "execution_count": 7,
   "metadata": {},
   "outputs": [
    {
     "ename": "InexactError",
     "evalue": "InexactError: Int64(45.9)",
     "output_type": "error",
     "traceback": [
      "InexactError: Int64(45.9)",
      "",
      "Stacktrace:",
      " [1] Type at ./float.jl:703 [inlined]",
      " [2] convert at ./number.jl:7 [inlined]",
      " [3] setindex!(::Array{Int64,1}, ::Float64, ::Int64) at ./array.jl:767",
      " [4] top-level scope at In[7]:2"
     ]
    }
   ],
   "source": [
    "a = [5, 8, 9, 90]\n",
    "a[4]= 45.90\n",
    "a"
   ]
  },
  {
   "cell_type": "markdown",
   "metadata": {
    "slideshow": {
     "slide_type": "slide"
    }
   },
   "source": [
    "### *Slicing* de arrays"
   ]
  },
  {
   "cell_type": "code",
   "execution_count": null,
   "metadata": {},
   "outputs": [],
   "source": []
  }
 ],
 "metadata": {
  "celltoolbar": "Slideshow",
  "kernelspec": {
   "display_name": "Julia 1.1.0",
   "language": "julia",
   "name": "julia-1.1"
  },
  "language_info": {
   "file_extension": ".jl",
   "mimetype": "application/julia",
   "name": "julia",
   "version": "1.1.0"
  }
 },
 "nbformat": 4,
 "nbformat_minor": 2
}

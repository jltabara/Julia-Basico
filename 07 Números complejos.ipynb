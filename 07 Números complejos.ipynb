{
 "cells": [
  {
   "cell_type": "markdown",
   "metadata": {
    "slideshow": {
     "slide_type": "slide"
    }
   },
   "source": [
    "<center><img src=\"julia2.png\", width=\"40%\"/><h1>Números complejos</h1><br /></center>"
   ]
  },
  {
   "cell_type": "markdown",
   "metadata": {
    "slideshow": {
     "slide_type": "slide"
    }
   },
   "source": [
    "### Escribir  los números complejos\n",
    "\n",
    "* La unidad imaginaria se denota por `im`.\n",
    "\n",
    "* Podemos construir los números complejos utilizando la notación binómica.\n",
    "\n",
    "* También podemos utilizar la función `complex()`."
   ]
  },
  {
   "cell_type": "markdown",
   "metadata": {
    "slideshow": {
     "slide_type": "slide"
    }
   },
   "source": [
    "<div class=\"alert alert-success\">\n",
    "<font size=\"5\">\n",
    "    \n",
    "Escribe los siguientes números complejos y comprueba su tipo.\n",
    "\n",
    "$$\n",
    "a)\\, 4 + 7i \\qquad b)\\, 4.6 + 8.9 i\n",
    "$$\n",
    "\n",
    "</div>"
   ]
  },
  {
   "cell_type": "code",
   "execution_count": null,
   "metadata": {},
   "outputs": [],
   "source": []
  },
  {
   "cell_type": "markdown",
   "metadata": {
    "slideshow": {
     "slide_type": "slide"
    }
   },
   "source": [
    "### Operaciones con números complejos\n",
    "\n",
    "Con los números complejos se pueden realizar **todo tipo de operaciones**, incluyendo las potencias y los radicales. Para calcular los radicales utilizamos las funciones `sqrt()`, `cbrt()` y para **el resto tenemos que convertir los radicales en potencias**."
   ]
  },
  {
   "cell_type": "markdown",
   "metadata": {
    "slideshow": {
     "slide_type": "slide"
    }
   },
   "source": [
    "<div class=\"alert alert-success\">\n",
    "<font size=\"5\">\n",
    "    \n",
    "Realiza las operaciones:\n",
    "\n",
    "$$\n",
    "a)\\, (4 + 7i)(4 +23i) \\qquad b)\\, (4.6 + 8.9 i) / (3 - 56i) \\qquad c)\\, (3-7i)^5\n",
    "$$\n",
    "\n",
    "</div>"
   ]
  },
  {
   "cell_type": "code",
   "execution_count": null,
   "metadata": {},
   "outputs": [],
   "source": []
  },
  {
   "cell_type": "markdown",
   "metadata": {
    "slideshow": {
     "slide_type": "slide"
    }
   },
   "source": [
    "<div class=\"alert alert-success\">\n",
    "<font size=\"5\">\n",
    "    \n",
    "Realiza las operaciones:\n",
    "\n",
    "$$\n",
    "a)\\, \\sqrt{4+9i} \\qquad b)\\, \\sqrt[5]{3-9.7i} \\qquad c)\\, (2-6i)^{3-7i}\n",
    "$$\n",
    "\n",
    "</div>"
   ]
  },
  {
   "cell_type": "code",
   "execution_count": null,
   "metadata": {},
   "outputs": [],
   "source": []
  },
  {
   "cell_type": "markdown",
   "metadata": {
    "slideshow": {
     "slide_type": "slide"
    }
   },
   "source": [
    "<div class=\"alert alert-success\">\n",
    "<font size=\"5\">\n",
    "    \n",
    "Calcula la raíz cuadrada de -1. Analiza el tipo de error y resuelvelo.\n",
    "\n",
    "</div>"
   ]
  },
  {
   "cell_type": "code",
   "execution_count": 3,
   "metadata": {},
   "outputs": [
    {
     "data": {
      "text/plain": [
       "(14.832396974191326, 14.832396974191326)"
      ]
     },
     "execution_count": 3,
     "metadata": {},
     "output_type": "execute_result"
    }
   ],
   "source": [
    "sqrt(220), 220^(1/2)"
   ]
  },
  {
   "cell_type": "markdown",
   "metadata": {
    "slideshow": {
     "slide_type": "slide"
    }
   },
   "source": [
    "### Funciones sobre números complejos\n",
    "\n",
    "* La función `real()` calcula la parte real e `imag()` la parte imaginaria.\n",
    "\n",
    "* La función `abs()` calcula el módulo. La función `abs2()` calcula el módulo del número pero al cuadrado.\n",
    "\n",
    "* La función `angle()` calcula el argumento (en radianes).\n",
    "\n",
    "* La función `conj()` nos devuelve el conjugado.\n",
    "\n"
   ]
  },
  {
   "cell_type": "markdown",
   "metadata": {
    "slideshow": {
     "slide_type": "slide"
    }
   },
   "source": [
    "<div class=\"alert alert-success\">\n",
    "<font size=\"5\">\n",
    "    \n",
    "* Dado el número complejo $z = 4 + 5i$ calcula sus partes real e imaginaria, su módulo y su argumento. \n",
    "\n",
    "* Utiliza la función `rad2deg()` para convertir de radianes a grados.\n",
    "\n",
    "* Calcula también el módulo al cuadrado y comprueba que coincide con la multiplicación del número con su conjugado.\n",
    "\n",
    "</div>"
   ]
  },
  {
   "cell_type": "code",
   "execution_count": null,
   "metadata": {},
   "outputs": [],
   "source": []
  },
  {
   "cell_type": "markdown",
   "metadata": {
    "slideshow": {
     "slide_type": "slide"
    }
   },
   "source": [
    "<center><img src=\"conjugado.png\", width=\"70%\"/></center>"
   ]
  },
  {
   "cell_type": "markdown",
   "metadata": {
    "slideshow": {
     "slide_type": "slide"
    }
   },
   "source": [
    "<div class=\"alert alert-success\">\n",
    "<font size=\"5\">\n",
    "    \n",
    "* Dado el número complejo $z = 3+4i$, calcula su conjugado y comprueba que los módulos son iguales.\n",
    "\n",
    "* Comprueba que el argumento de un complejo y de su conjugado se diferencian en el signo.\n",
    "\n",
    "</div>"
   ]
  },
  {
   "cell_type": "code",
   "execution_count": null,
   "metadata": {},
   "outputs": [],
   "source": []
  },
  {
   "cell_type": "markdown",
   "metadata": {
    "slideshow": {
     "slide_type": "slide"
    }
   },
   "source": [
    "<div class=\"alert alert-success\">\n",
    "<font size=\"5\">\n",
    "    \n",
    "* Dado el número complejo $5_{\\frac{pi}{4}}$ conviertelo a forma binómica utilizando las fórmulas:\n",
    "\n",
    "$$\n",
    "a = r \\cos(\\theta) \\qquad b = r \\sin(\\theta)\n",
    "$$\n",
    "\n",
    "* Convierte el mismo número utilizando la función `cis()`.\n",
    "\n",
    "* Convierte el binario el número $5_{34^\\mathrm{o}}$.\n",
    "\n",
    "</div>"
   ]
  },
  {
   "cell_type": "code",
   "execution_count": null,
   "metadata": {},
   "outputs": [],
   "source": []
  },
  {
   "cell_type": "markdown",
   "metadata": {
    "slideshow": {
     "slide_type": "slide"
    }
   },
   "source": [
    "<center><h1>Fin</h1></center>\n",
    "<center><small>github.com/jltabara/JuliaBasico</small></center>"
   ]
  },
  {
   "cell_type": "code",
   "execution_count": null,
   "metadata": {
    "slideshow": {
     "slide_type": "slide"
    }
   },
   "outputs": [],
   "source": []
  }
 ],
 "metadata": {
  "celltoolbar": "Slideshow",
  "kernelspec": {
   "display_name": "Julia 1.1.0",
   "language": "julia",
   "name": "julia-1.1"
  },
  "language_info": {
   "file_extension": ".jl",
   "mimetype": "application/julia",
   "name": "julia",
   "version": "1.1.0"
  }
 },
 "nbformat": 4,
 "nbformat_minor": 2
}

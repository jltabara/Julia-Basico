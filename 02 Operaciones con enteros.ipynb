{
 "cells": [
  {
   "cell_type": "markdown",
   "metadata": {
    "slideshow": {
     "slide_type": "slide"
    }
   },
   "source": [
    "<center><img src=\"julia2.png\", width=\"40%\"/><h1>Operaciones con enteros</h1></center>"
   ]
  },
  {
   "cell_type": "markdown",
   "metadata": {
    "slideshow": {
     "slide_type": "slide"
    }
   },
   "source": [
    "### Operaciones básicas\n",
    "\n",
    "* Julia se puede utilizar como una **calculadora avanzada**. Permite realizar todas las operaciones habituales con números enteros. En particular se utiliza el asterisco `*` para la multiplicación y la barra inclinada `/` para la división.\n",
    "\n",
    "* Cuando se realizan **varias operaciones en una única celda**, Julia muestra el resultado de la última operación. Si queremos ver todos los resultados deberemos escribir las operaciones dentro de sentencias `println()`."
   ]
  },
  {
   "cell_type": "markdown",
   "metadata": {
    "slideshow": {
     "slide_type": "slide"
    }
   },
   "source": [
    "<div class=\"alert alert-success\">\n",
    "<font size=\"5\">\n",
    "    \n",
    "* Realiza las sumas:\n",
    "\n",
    "$$\n",
    "a)\\,345 + 789 \\qquad b)\\, 1234567 + 76543210\n",
    "$$\n",
    "\n",
    "* Imprime las dos sumas en una única celda con la función `println()`.\n",
    "\n",
    "\n",
    "</div>"
   ]
  },
  {
   "cell_type": "code",
   "execution_count": 4,
   "metadata": {},
   "outputs": [
    {
     "name": "stdout",
     "output_type": "stream",
     "text": [
      "1134\n",
      "8888888\n"
     ]
    }
   ],
   "source": [
    "println(345 + 789)\n",
    "println(1234567  + 7654321)"
   ]
  },
  {
   "cell_type": "markdown",
   "metadata": {
    "slideshow": {
     "slide_type": "slide"
    }
   },
   "source": [
    "### Texto y operaciones en la función `println()`\n",
    "\n",
    "Podemos escribir texto y operaciones. El texto debe estar entre comillas y las operaciones fuera de ellas. Debemos separar los argumentos por comas."
   ]
  },
  {
   "cell_type": "markdown",
   "metadata": {
    "slideshow": {
     "slide_type": "slide"
    }
   },
   "source": [
    "<div class=\"alert alert-success\">\n",
    "<font size=\"5\">\n",
    "\n",
    "Escribe texto y operaciones con la función `println()`.\n",
    "\n",
    "</div>"
   ]
  },
  {
   "cell_type": "code",
   "execution_count": 7,
   "metadata": {},
   "outputs": [
    {
     "name": "stdout",
     "output_type": "stream",
     "text": [
      "hola, la suma es 768 Y podemos seguir\n"
     ]
    }
   ],
   "source": [
    "println(\"hola, la suma es \", 678 + 90, \" Y podemos seguir\")"
   ]
  },
  {
   "cell_type": "markdown",
   "metadata": {
    "slideshow": {
     "slide_type": "slide"
    }
   },
   "source": [
    "<div class=\"alert alert-success\">\n",
    "<font size=\"5\">\n",
    "    \n",
    "Realiza las restas:\n",
    "\n",
    "$$\n",
    "a)\\, 345 -87 \\qquad b)\\, 12 -  123456789\n",
    "$$\n",
    "\n",
    "</div>"
   ]
  },
  {
   "cell_type": "code",
   "execution_count": 9,
   "metadata": {},
   "outputs": [
    {
     "data": {
      "text/plain": [
       "-123456777"
      ]
     },
     "execution_count": 9,
     "metadata": {},
     "output_type": "execute_result"
    }
   ],
   "source": [
    "345 - 87\n",
    "12-123456789"
   ]
  },
  {
   "cell_type": "markdown",
   "metadata": {
    "slideshow": {
     "slide_type": "slide"
    }
   },
   "source": [
    "<div class=\"alert alert-success\">\n",
    "<font size=\"5\">\n",
    "    \n",
    "Realiza las multiplicaciones:\n",
    "\n",
    "$$\n",
    "a)\\, 45 \\cdot 56 \\qquad b)\\, 123 \\cdot 456 \\cdot 789\n",
    "$$\n",
    "\n",
    "</div>"
   ]
  },
  {
   "cell_type": "code",
   "execution_count": 12,
   "metadata": {},
   "outputs": [
    {
     "data": {
      "text/plain": [
       "44253432"
      ]
     },
     "execution_count": 12,
     "metadata": {},
     "output_type": "execute_result"
    }
   ],
   "source": [
    "45 * 56\n",
    "123 * 456 * 789"
   ]
  },
  {
   "cell_type": "markdown",
   "metadata": {
    "slideshow": {
     "slide_type": "slide"
    }
   },
   "source": [
    "### Divisiones de enteros y los números decimales\n",
    "\n",
    "* Al realizar sumas, restas y multiplicaciones de enteros, el resultado era **siempre un número entero**. Sin embargo al realizar divisiones el resultado es **siempre un número decimal**, a pesar de que matemáticamente el resultado a veces es un número entero.\n",
    "\n",
    "* Julia también utiliza el operador `\\` que realiza la operación de división \"al revés\". Esta operación prácticamente no se usa con valores numéricos."
   ]
  },
  {
   "cell_type": "markdown",
   "metadata": {
    "slideshow": {
     "slide_type": "slide"
    }
   },
   "source": [
    "<div class=\"alert alert-success\">\n",
    "<font size=\"5\">   \n",
    "    \n",
    "* Realiza las divisiones con los operadores `/` y `\\`:\n",
    "\n",
    "$$\n",
    "a)\\, 456 / 78 \\qquad  b)\\, 8 / 4\n",
    "$$\n",
    "\n",
    "* Realiza una división por cero y analiza el tipo de error, si se produce.\n",
    "\n",
    "</div>"
   ]
  },
  {
   "cell_type": "code",
   "execution_count": 19,
   "metadata": {},
   "outputs": [
    {
     "data": {
      "text/plain": [
       "-Inf"
      ]
     },
     "execution_count": 19,
     "metadata": {},
     "output_type": "execute_result"
    }
   ],
   "source": [
    "-8 / 0\n"
   ]
  },
  {
   "cell_type": "markdown",
   "metadata": {
    "slideshow": {
     "slide_type": "slide"
    }
   },
   "source": [
    "### Jerarquía de operaciones\n",
    "\n",
    "Julia sigue la **misma jerarquía de operaciones que las matemáticas** al operar con números: primero multiplicaciones y divisiones y después sumas y restas. Para cambiar el orden **se utilizan los paréntesis**."
   ]
  },
  {
   "cell_type": "markdown",
   "metadata": {
    "slideshow": {
     "slide_type": "slide"
    }
   },
   "source": [
    "<div class=\"alert alert-success\">\n",
    "<font size=\"5\"> \n",
    "Realiza las operaciones combinadas:\n",
    "\n",
    "$$\n",
    "a)\\, 4 + 7 \\cdot 6 \\qquad b)\\, (4+7) \\cdot 6 \\qquad c)\\, 4 \\cdot 5 - 3 \\cdot 2\n",
    "$$\n",
    "\n",
    "</div>"
   ]
  },
  {
   "cell_type": "code",
   "execution_count": 22,
   "metadata": {},
   "outputs": [
    {
     "data": {
      "text/plain": [
       "14"
      ]
     },
     "execution_count": 22,
     "metadata": {},
     "output_type": "execute_result"
    }
   ],
   "source": [
    "4 * 5 - 3 * 2"
   ]
  },
  {
   "cell_type": "markdown",
   "metadata": {
    "slideshow": {
     "slide_type": "slide"
    }
   },
   "source": [
    "### Las potencias\n",
    "\n",
    "Para realizar la potencia se utiliza el circunflejo (`^`). El resultado es siempre un número entero."
   ]
  },
  {
   "cell_type": "markdown",
   "metadata": {
    "slideshow": {
     "slide_type": "slide"
    }
   },
   "source": [
    "<div class=\"alert alert-success\">\n",
    "<font size=\"5\">\n",
    "    \n",
    "Realiza las siguientes potencias:\n",
    "\n",
    "$$\n",
    "a)\\, 2^4 \\qquad b)\\, (-3)^4 \\qquad c)\\, 2^{40}\n",
    "$$\n",
    "\n",
    "</div>"
   ]
  },
  {
   "cell_type": "code",
   "execution_count": 25,
   "metadata": {},
   "outputs": [
    {
     "data": {
      "text/plain": [
       "1099511627776"
      ]
     },
     "execution_count": 25,
     "metadata": {},
     "output_type": "execute_result"
    }
   ],
   "source": [
    "2^40"
   ]
  },
  {
   "cell_type": "markdown",
   "metadata": {
    "slideshow": {
     "slide_type": "slide"
    }
   },
   "source": [
    "### Las potencias y la jerarquía de operaciones\n",
    "\n",
    "**Si hay potencias, entonces se realizan antes de las multiplicaciones y las divisiones**. En general todas las operaciones siguen la misma jerarquía de operaciones que la habitual en Matemáticas."
   ]
  },
  {
   "cell_type": "markdown",
   "metadata": {
    "slideshow": {
     "slide_type": "slide"
    }
   },
   "source": [
    "<div class=\"alert alert-success\">\n",
    "<font size=\"5\">\n",
    "    \n",
    "Realiza las operaciones:\n",
    "\n",
    "$$\n",
    "a)\\, 3 \\cdot 2^5 \\qquad b)\\, 5 \\cdot (-3)^3\n",
    "$$\n",
    "\n",
    "</div>"
   ]
  },
  {
   "cell_type": "code",
   "execution_count": 29,
   "metadata": {},
   "outputs": [
    {
     "data": {
      "text/plain": [
       "-135"
      ]
     },
     "execution_count": 29,
     "metadata": {},
     "output_type": "execute_result"
    }
   ],
   "source": [
    "5 * (-3)^3"
   ]
  },
  {
   "cell_type": "markdown",
   "metadata": {
    "slideshow": {
     "slide_type": "slide"
    }
   },
   "source": [
    "### El cociente y la división enteras\n",
    "\n",
    "* Además de estas operaciones, Julia puede realizar otras dos: utilizando el operador `\\div` (que se mostrará en pantalla como **$\\div$** tras pulsar el tabulador) puede calcular el **cociente entero** de una división y con el operador `%` puede calcular el **resto de la división**.\n",
    "\n",
    "* También podemos obtener tanto el cociente como el resto de la división utilizando la función `divrem()`."
   ]
  },
  {
   "cell_type": "markdown",
   "metadata": {
    "slideshow": {
     "slide_type": "slide"
    }
   },
   "source": [
    "<div class=\"alert alert-success\">\n",
    "<font size=\"5\">\n",
    "    \n",
    "* Calcula el cociente y el resto de las divisiones, utilizando los operadores y la función `divrem()`:\n",
    "\n",
    "$$\n",
    "a)\\, 17 / 5\\qquad b)\\, 3456 / 123\n",
    "$$\n",
    "\n",
    "* Intenta realizar una división entre cero y analiza el error, si éste se produce.\n",
    "</div>"
   ]
  },
  {
   "cell_type": "code",
   "execution_count": 35,
   "metadata": {},
   "outputs": [
    {
     "data": {
      "text/plain": [
       "(28, 12)"
      ]
     },
     "execution_count": 35,
     "metadata": {},
     "output_type": "execute_result"
    }
   ],
   "source": [
    "3456 % 123\n",
    "divrem(3456, 123)"
   ]
  },
  {
   "cell_type": "markdown",
   "metadata": {
    "slideshow": {
     "slide_type": "slide"
    }
   },
   "source": [
    "### Los problemas de *overflow* o desbordamiento\n",
    "\n",
    "Julia **no trabaja con enteros con precisión infinita**. En realidad solamente puede realizar operaciones de modo correcto si los números no superan a `typemax(Int)`. Los números negativos no pueden sobrepasar el límite `typemin(Int)`. \n",
    "\n",
    "En el caso de superarse dichos números los resultados no serán correctos. En otros videos veremos como puede solucionarse ese problema.\n"
   ]
  },
  {
   "cell_type": "markdown",
   "metadata": {
    "slideshow": {
     "slide_type": "slide"
    }
   },
   "source": [
    "<div class=\"alert alert-success\">\n",
    "<font size=\"5\">\n",
    "    \n",
    "Calcula el entero máximo y el entero mínimo.\n",
    "\n",
    "</div>"
   ]
  },
  {
   "cell_type": "code",
   "execution_count": 37,
   "metadata": {},
   "outputs": [
    {
     "data": {
      "text/plain": [
       "9223372036854775807"
      ]
     },
     "execution_count": 37,
     "metadata": {},
     "output_type": "execute_result"
    }
   ],
   "source": [
    "typemax(Int)"
   ]
  },
  {
   "cell_type": "markdown",
   "metadata": {
    "slideshow": {
     "slide_type": "slide"
    }
   },
   "source": [
    "<div class=\"alert alert-success\">\n",
    "<font size=\"5\">\n",
    "    \n",
    "Realiza las siguientes operaciones y comprueba que el resultado no es correcto:\n",
    "\n",
    "$$\n",
    "a)\\, \\mathtt{typemax}(\\mathtt{Int}) + 1 \\qquad b)\\, 2^{500}\n",
    "$$\n",
    "\n",
    "</div>"
   ]
  },
  {
   "cell_type": "code",
   "execution_count": 40,
   "metadata": {},
   "outputs": [
    {
     "data": {
      "text/plain": [
       "0"
      ]
     },
     "execution_count": 40,
     "metadata": {},
     "output_type": "execute_result"
    }
   ],
   "source": [
    "2^500"
   ]
  },
  {
   "cell_type": "markdown",
   "metadata": {
    "slideshow": {
     "slide_type": "slide"
    }
   },
   "source": [
    "### La notación funcional y los operadores\n",
    "\n",
    "* Julia puede realizar todas las operaciones que hemos visto utilizando la llamada **notación funcional**. En la notación funcional el operador (o función) aparece delante de los operandos y los operandos se escriben entre paréntesis y separados por comas. A pesar de ser poco intuitiva, la notación funcional puede tener grandes ventajas.\n",
    "\n",
    "* Para la división entera la función es `div()` y para el resto `rem()` aunque también se pueden utilizar los operadores."
   ]
  },
  {
   "cell_type": "markdown",
   "metadata": {
    "slideshow": {
     "slide_type": "slide"
    }
   },
   "source": [
    "<div class=\"alert alert-success\">\n",
    "<font size=\"5\">\n",
    "\n",
    "Realiza las siguientes operaciones en notación funcional:\n",
    "\n",
    "$$\n",
    "a)\\, 45 + 90 \\qquad b)\\, 57 \\div 4 \\qquad c) 57 \\% 4\n",
    "$$\n",
    "\n",
    "</div>"
   ]
  },
  {
   "cell_type": "code",
   "execution_count": 45,
   "metadata": {},
   "outputs": [
    {
     "data": {
      "text/plain": [
       "1"
      ]
     },
     "execution_count": 45,
     "metadata": {},
     "output_type": "execute_result"
    }
   ],
   "source": [
    "%(57, 4)"
   ]
  },
  {
   "cell_type": "markdown",
   "metadata": {
    "slideshow": {
     "slide_type": "slide"
    }
   },
   "source": [
    "### Representación de los enteros en memoria\n",
    "\n",
    "**Julia utiliza 64 bits para guardar los enteros** (en las máquinas que trabajan con 64 bits).  Para ver la representación en memoria de un número utilizamos la función `bitstring()`."
   ]
  },
  {
   "cell_type": "markdown",
   "metadata": {
    "slideshow": {
     "slide_type": "slide"
    }
   },
   "source": [
    "<div class=\"alert alert-success\">\n",
    "<font size=\"5\">\n",
    "\n",
    "Encuentra la representación en memoria de los enteros:\n",
    "\n",
    "$$\n",
    "a)\\, 5 \\qquad b)\\, 128 \\qquad c)\\, \\mathrm{typemax}(\\mathrm{Int})\n",
    "$$\n",
    "\n",
    "</div>"
   ]
  },
  {
   "cell_type": "code",
   "execution_count": 50,
   "metadata": {},
   "outputs": [
    {
     "data": {
      "text/plain": [
       "\"1000000000000000000000000000000000000000000000000000000000000000\""
      ]
     },
     "execution_count": 50,
     "metadata": {},
     "output_type": "execute_result"
    }
   ],
   "source": [
    "bitstring(typemin(Int))"
   ]
  },
  {
   "cell_type": "markdown",
   "metadata": {
    "slideshow": {
     "slide_type": "slide"
    }
   },
   "source": [
    "<center><h1>Fin</h1></center>\n",
    "<center><small>github.com/jltabara/JuliaBasico</small></center>"
   ]
  },
  {
   "cell_type": "code",
   "execution_count": null,
   "metadata": {
    "slideshow": {
     "slide_type": "slide"
    }
   },
   "outputs": [],
   "source": []
  }
 ],
 "metadata": {
  "celltoolbar": "Slideshow",
  "kernelspec": {
   "display_name": "Julia 1.1.0",
   "language": "julia",
   "name": "julia-1.1"
  },
  "language_info": {
   "file_extension": ".jl",
   "mimetype": "application/julia",
   "name": "julia",
   "version": "1.1.0"
  }
 },
 "nbformat": 4,
 "nbformat_minor": 2
}

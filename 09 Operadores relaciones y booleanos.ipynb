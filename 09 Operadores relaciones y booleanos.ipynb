{
 "cells": [
  {
   "cell_type": "markdown",
   "metadata": {
    "slideshow": {
     "slide_type": "slide"
    }
   },
   "source": [
    "<center><img src=\"julia2.png\", width=\"40%\"/><h1>Operadores relacionales y booleanos</h1><br /></center>"
   ]
  },
  {
   "cell_type": "markdown",
   "metadata": {
    "slideshow": {
     "slide_type": "slide"
    }
   },
   "source": [
    "Los operadores de comparación nos sirven para saber si dos números son iguales y también para saber cuando un número es mayor que otro. **El resultado siempre es** `true` o `false`. Los valores `true` y `false` forman un nuevo tipo de dato: `Bool`. En la siguiente diapositiva se presentan todos los operadores de comparación.\n",
    "\n"
   ]
  },
  {
   "cell_type": "markdown",
   "metadata": {
    "slideshow": {
     "slide_type": "slide"
    }
   },
   "source": [
    "\n",
    "<table class=\"tg\">\n",
    "  <tr>\n",
    "      <th class=\"tg-0pky\"><font size=\"7\">Definición</font></th>\n",
    "      <th class=\"tg-c3ow\"><font size=\"7\">Operador</font></th>\n",
    "  </tr>\n",
    "  <tr>\n",
    "      <td class=\"tg-0pky\"><font size=\"6\">Mayor que</font></td>\n",
    "      <td class=\"tg-c3ow\"><font size=\"6\">&gt;</font></td>\n",
    "  </tr>\n",
    "  <tr>\n",
    "      <td class=\"tg-0pky\"><font size=\"6\">Menor que</font><br></td>\n",
    "      <td class=\"tg-c3ow\"><font size=\"6\">&lt;</font></td>\n",
    "  </tr>\n",
    "  <tr>\n",
    "      <td class=\"tg-0pky\"><font size=\"6\">Igual a</font> <br></td>\n",
    "      <td class=\"tg-c3ow\"><font size=\"6\">==</font></td>\n",
    "  </tr>\n",
    "  <tr>\n",
    "      <td class=\"tg-0pky\"><font size=\"6\">Mayor o igual que</font></td>\n",
    "      <td class=\"tg-c3ow\"><font size=\"6\">&gt;=</font></td>\n",
    "  </tr>\n",
    "  <tr>\n",
    "      <td class=\"tg-0pky\"><font size=\"6\">Menor o igual que</font></td>\n",
    "      <td class=\"tg-c3ow\"><font size=\"6\">&lt;=</font></td>\n",
    "  </tr>\n",
    "  <tr>\n",
    "      <td class=\"tg-0pky\"><font size=\"6\">Distinto a</font></td>\n",
    "      <td class=\"tg-c3ow\"><font size=\"6\">!=</font></td>\n",
    "  </tr>\n",
    "</table>\n"
   ]
  },
  {
   "cell_type": "markdown",
   "metadata": {
    "slideshow": {
     "slide_type": "slide"
    }
   },
   "source": [
    "<div class=\"alert alert-success\">\n",
    "<font size=\"5\">\n",
    "\n",
    "* Guarda en dos variables los números 50 y 4 y realiza diversas comparaciones entre ellos.\n",
    "\n",
    "* Comprueba que el resultado es siempre un tipo de dato `Bool`.\n",
    "\n",
    "\n",
    "</div>"
   ]
  },
  {
   "cell_type": "code",
   "execution_count": 15,
   "metadata": {},
   "outputs": [
    {
     "data": {
      "text/plain": [
       "1"
      ]
     },
     "execution_count": 15,
     "metadata": {},
     "output_type": "execute_result"
    }
   ],
   "source": [
    "num1 = 50\n",
    "num2 = 50\n",
    "num1 != num2 \n",
    "typeof(false)\n",
    "sizeof(true)"
   ]
  },
  {
   "cell_type": "markdown",
   "metadata": {
    "slideshow": {
     "slide_type": "slide"
    }
   },
   "source": [
    "### Las comparaciones de números float\n",
    "\n",
    "Comprobar la igualdad de dos números de tipo float suele ser mala idea. Debido a los errores del cálculo numérico, dos números matemáticas iguales pueden ser distintos para Julia."
   ]
  },
  {
   "cell_type": "markdown",
   "metadata": {
    "slideshow": {
     "slide_type": "slide"
    }
   },
   "source": [
    "<div class=\"alert alert-success\">\n",
    "<font size=\"5\">\n",
    "\n",
    "Compara los números:\n",
    "\n",
    "$$\n",
    "a)\\, \\sqrt(20) \\cdot \\sqrt(20)\\qquad b)\\,  20\n",
    "$$\n",
    "\n",
    "\n",
    "</div>"
   ]
  },
  {
   "cell_type": "code",
   "execution_count": 3,
   "metadata": {},
   "outputs": [
    {
     "data": {
      "text/plain": [
       "false"
      ]
     },
     "execution_count": 3,
     "metadata": {},
     "output_type": "execute_result"
    }
   ],
   "source": [
    "sqrt(20) * sqrt(20) == 20"
   ]
  },
  {
   "cell_type": "markdown",
   "metadata": {
    "slideshow": {
     "slide_type": "slide"
    }
   },
   "source": [
    "### La prioridad de los operadores\n",
    "\n",
    "Los operadores relacionales tienen **menor prioridad que los operadores aritméticos**. Esto es: si hay operadores aritméticos y relacionales en una misma expresión, las operaciones aritméticas se realizan antes."
   ]
  },
  {
   "cell_type": "markdown",
   "metadata": {
    "slideshow": {
     "slide_type": "slide"
    }
   },
   "source": [
    "<div class=\"alert alert-success\">\n",
    "<font size=\"5\">\n",
    "\n",
    "Realiza las siguientes comparaciones:\n",
    "\n",
    "$$\n",
    "a)\\, 4+6 < 4\\cdot 7 \\qquad   b)\\, 45 >= 3 + 6 \\cdot 7\n",
    "$$\n",
    "\n",
    "</div>"
   ]
  },
  {
   "cell_type": "code",
   "execution_count": 19,
   "metadata": {},
   "outputs": [
    {
     "data": {
      "text/plain": [
       "false"
      ]
     },
     "execution_count": 19,
     "metadata": {},
     "output_type": "execute_result"
    }
   ],
   "source": [
    "45 > 3 + 6 * 7"
   ]
  },
  {
   "cell_type": "markdown",
   "metadata": {
    "slideshow": {
     "slide_type": "slide"
    }
   },
   "source": [
    "Con los datos booleanos se pueden hacer varias operaciones. Las más importantes son **and**, **or**, **xor** y **not**. Al realizar las operaciones se devuelve un nuevo valor booleano. Las reglas para efectuar dichas operaciones se suelen denominar **tablas de verdad**, pues dichas operaciones se estudian también en Lógica.\n",
    "\n",
    "Los operadores en Julia son: `&` para **and**, `|` para **or**, `$` para **xor** y `~` para **not**."
   ]
  },
  {
   "cell_type": "markdown",
   "metadata": {
    "slideshow": {
     "slide_type": "slide"
    }
   },
   "source": [
    "\n",
    "<table class=\"tg\">\n",
    "  <tr>\n",
    "    <th><font size=\"6\"><text-align: right>a</th>\n",
    "    <th><font size=\"6\">   b    </th>\n",
    "    <th class=\"tg-0pky\"><font size=\"6\">a &amp; b</th>\n",
    "    <th class=\"tg-0pky\"><font size=\"6\">a | b</th>\n",
    "    <th class=\"tg-0pky\"><font size=\"6\">a $ b</th>\n",
    "  </tr>\n",
    "  <tr>\n",
    "    <td class=\"tg-0pky\"><font size=\"6\">true</td>\n",
    "    <td class=\"tg-0pky\"><font size=\"6\">true</td>\n",
    "    <td class=\"tg-0pky\"><font size=\"6\">true</td>\n",
    "    <td class=\"tg-0pky\"><font size=\"6\">true</td>\n",
    "    <td class=\"tg-0pky\"><font size=\"6\">false</td>\n",
    "  </tr>\n",
    "  <tr>\n",
    "    <td class=\"tg-0pky\"><font size=\"6\">true</td>\n",
    "    <td class=\"tg-0pky\"><font size=\"6\">false<br></td>\n",
    "    <td class=\"tg-0pky\"><font size=\"6\">false</td>\n",
    "    <td class=\"tg-0pky\"><font size=\"6\">true</td>\n",
    "    <td class=\"tg-0pky\"><font size=\"6\">true</td>\n",
    "  </tr>\n",
    "  <tr>\n",
    "    <td class=\"tg-0pky\"><font size=\"6\">false</td>\n",
    "    <td class=\"tg-0pky\"><font size=\"6\">true</td>\n",
    "    <td class=\"tg-0pky\"><font size=\"6\">false</td>\n",
    "    <td class=\"tg-0pky\"><font size=\"6\">true</td>\n",
    "    <td class=\"tg-0pky\"><font size=\"6\">true</td>\n",
    "  </tr>\n",
    "  <tr>\n",
    "    <td class=\"tg-0pky\"><font size=\"6\">false</td>\n",
    "    <td class=\"tg-0pky\"><font size=\"6\">false</td>\n",
    "    <td class=\"tg-0pky\"><font size=\"6\">false<br></td>\n",
    "    <td class=\"tg-0pky\"><font size=\"6\">false</td>\n",
    "    <td class=\"tg-0pky\"><font size=\"6\">false</td>\n",
    "  </tr>\n",
    "</table>"
   ]
  },
  {
   "cell_type": "markdown",
   "metadata": {
    "slideshow": {
     "slide_type": "slide"
    }
   },
   "source": [
    "<div class=\"alert alert-success\">\n",
    "<font size=\"5\">\n",
    "\n",
    "Calcula la tabla de verdad del operador `&`. Ver la analogía con la multiplicación.\n",
    "\n",
    "</div>"
   ]
  },
  {
   "cell_type": "code",
   "execution_count": null,
   "metadata": {},
   "outputs": [],
   "source": []
  },
  {
   "cell_type": "markdown",
   "metadata": {
    "slideshow": {
     "slide_type": "slide"
    }
   },
   "source": [
    "<div class=\"alert alert-success\">\n",
    "<font size=\"5\">\n",
    "\n",
    "Calcula la tabla de verdad del operador `|` y la analogía con la suma.\n",
    "\n",
    "</div>"
   ]
  },
  {
   "cell_type": "code",
   "execution_count": null,
   "metadata": {},
   "outputs": [],
   "source": []
  },
  {
   "cell_type": "markdown",
   "metadata": {
    "slideshow": {
     "slide_type": "slide"
    }
   },
   "source": [
    "**Los operadores relacionales tienen mayor prioridad que los operadores booleanos**. Si tenemos dudas sobre la prioridad siempre podemos utilizar paréntesis."
   ]
  },
  {
   "cell_type": "markdown",
   "metadata": {
    "slideshow": {
     "slide_type": "slide"
    }
   },
   "source": [
    "<div class=\"alert alert-success\">\n",
    "<font size=\"5\">\n",
    "\n",
    "Analiza la siguiente instrucción paso a paso:\n",
    "\n",
    "```julia\n",
    "3 < 5 | 5 == 3\n",
    "```\n",
    "\n",
    "</div>"
   ]
  },
  {
   "cell_type": "code",
   "execution_count": null,
   "metadata": {},
   "outputs": [],
   "source": []
  },
  {
   "cell_type": "markdown",
   "metadata": {
    "slideshow": {
     "slide_type": "slide"
    }
   },
   "source": [
    "Si en una misma operación existen varios operadores booleanos, se sigue el siguiente **orden de prioridad**.\n",
    " * `not`\n",
    " * `and` \n",
    " * `or`."
   ]
  },
  {
   "cell_type": "markdown",
   "metadata": {
    "slideshow": {
     "slide_type": "slide"
    }
   },
   "source": [
    "<div class=\"alert alert-success\">\n",
    "<font size=\"5\">\n",
    "\n",
    "Analiza paso a paso las expresiones:\n",
    "```julia\n",
    "true and false or not true\n",
    "false or true and not false or true\n",
    "```\n",
    "\n",
    "</div>"
   ]
  },
  {
   "cell_type": "code",
   "execution_count": null,
   "metadata": {
    "slideshow": {
     "slide_type": "-"
    }
   },
   "outputs": [],
   "source": []
  },
  {
   "cell_type": "markdown",
   "metadata": {
    "slideshow": {
     "slide_type": "slide"
    }
   },
   "source": [
    "<center><h1>Fin</h1></center>\n",
    "<center><small>github.com/jltabara/JuliaBasico</small></center>"
   ]
  },
  {
   "cell_type": "code",
   "execution_count": null,
   "metadata": {
    "slideshow": {
     "slide_type": "slide"
    }
   },
   "outputs": [],
   "source": []
  }
 ],
 "metadata": {
  "celltoolbar": "Slideshow",
  "kernelspec": {
   "display_name": "Julia 1.1.0",
   "language": "julia",
   "name": "julia-1.1"
  },
  "language_info": {
   "file_extension": ".jl",
   "mimetype": "application/julia",
   "name": "julia",
   "version": "1.1.0"
  }
 },
 "nbformat": 4,
 "nbformat_minor": 2
}

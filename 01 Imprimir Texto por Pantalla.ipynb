{
 "cells": [
  {
   "cell_type": "markdown",
   "metadata": {
    "slideshow": {
     "slide_type": "slide"
    }
   },
   "source": [
    "\n",
    "<center><img src=\"julia2.png\", width=\"40%\"/>\n",
    "<h1>Imprimir texto por pantalla</h1><br /></center>"
   ]
  },
  {
   "cell_type": "markdown",
   "metadata": {
    "slideshow": {
     "slide_type": "slide"
    }
   },
   "source": [
    "### La función para imprimir por pantalla\n",
    "\n",
    "* Para **imprimir por pantalla cualquier texto** utilizamos la función `println()`.\n",
    "\n",
    "* El texto que queramos mostrar debe estar, en general, entre comillas **dobles**.\n",
    "\n",
    "* La función `println()`  puede escribir **varias líneas de texto** con una única sentencia."
   ]
  },
  {
   "cell_type": "markdown",
   "metadata": {
    "slideshow": {
     "slide_type": "slide"
    }
   },
   "source": [
    "<div class=\"alert alert-success\"> \n",
    "<font size=\"5\">\n",
    "    \n",
    "* Imprime por pantalla la frase:\n",
    "\n",
    "$$\n",
    "\\texttt{Hola mundo}\n",
    "$$\n",
    "\n",
    "* Imprime una frase con dos líneas utilizando `println()`.\n",
    "</div>"
   ]
  },
  {
   "cell_type": "code",
   "execution_count": null,
   "metadata": {},
   "outputs": [],
   "source": []
  },
  {
   "cell_type": "markdown",
   "metadata": {
    "slideshow": {
     "slide_type": "slide"
    }
   },
   "source": [
    "### Errores comunes"
   ]
  },
  {
   "cell_type": "markdown",
   "metadata": {
    "slideshow": {
     "slide_type": "-"
    }
   },
   "source": [
    "\n",
    "\n",
    "Algunas veces cometemos errores al teclear la función `println()`. Los errores más comunes son:\n",
    "\n",
    "* Olvidar escribir las comillas en el texto.\n",
    "* Escribir la palabra `println()` con mayúsculas.\n",
    "\n",
    "**Julia es un lenguaje *case sensitive***. Esto significa que diferencia entre mayúsculas y minúsculas. Dos palabras que se diferencian en una letra mayúscula son **totalmente distintas**."
   ]
  },
  {
   "cell_type": "markdown",
   "metadata": {
    "slideshow": {
     "slide_type": "slide"
    }
   },
   "source": [
    "<div class=\"alert alert-success\">\n",
    "<font size=\"5\">\n",
    "    \n",
    "* Escribe una frase sin utilizar comillas. Analiza el error.\n",
    "\n",
    "* Escribe la función `println()` con mayúsculas. Analiza el error.\n",
    "\n",
    "</div>"
   ]
  },
  {
   "cell_type": "code",
   "execution_count": null,
   "metadata": {},
   "outputs": [],
   "source": []
  },
  {
   "cell_type": "markdown",
   "metadata": {
    "slideshow": {
     "slide_type": "slide"
    }
   },
   "source": [
    "### Caracteres de escape\n",
    "\n",
    "Para escribir varias líneas podemos utilizar el caracter nueva línea `\\n`. Los caracteres que empiezan con la contrabarra se llaman **caracteres de escape** y tienen funciones especiales dentro del texto: por ejemplo,  el caracter `\\t` sirve para **hacer tabulaciones**."
   ]
  },
  {
   "cell_type": "markdown",
   "metadata": {
    "slideshow": {
     "slide_type": "slide"
    }
   },
   "source": [
    "<div class=\"alert alert-success\">\n",
    "<font size=\"5\">\n",
    "    \n",
    "* Imprime por pantalla, sin utilizar el caracter `\\n` y después utilizándolo, las frases.\n",
    "\n",
    "$$\n",
    "\\texttt{Hola mundo}\n",
    "$$\n",
    "$$\n",
    "\\texttt{Adiós mundo}\n",
    "$$\n",
    "\n",
    "* Imprime texto separado por una tabulación.\n",
    "\n",
    "</div>"
   ]
  },
  {
   "cell_type": "code",
   "execution_count": null,
   "metadata": {},
   "outputs": [],
   "source": []
  },
  {
   "cell_type": "markdown",
   "metadata": {
    "slideshow": {
     "slide_type": "slide"
    }
   },
   "source": [
    "### El problema de las comillas dentro del texto\n",
    "\n",
    "\n",
    "Si escribimos dentro del texto un par de comillas nos dará error. Lo mismo si escribimos una única barra inclinada.\n",
    "\n",
    "Para escribir **comillas dentro de las frases** se utiliza `\\\"`. En el texto presentado por pantalla solamente se imprimen las comillas. Otro carácter de escape es `\\\\`, que nos sirve para imprimir la contrabarra. \n",
    "\n"
   ]
  },
  {
   "cell_type": "markdown",
   "metadata": {
    "slideshow": {
     "slide_type": "slide"
    }
   },
   "source": [
    "<div class=\"alert alert-success\">\n",
    "<font size=\"5\">\n",
    "    \n",
    "* Imprime la frase:\n",
    "\n",
    "$$\n",
    "\\texttt{\"Julia\" es un lenguaje}\n",
    "$$\n",
    "\n",
    "* Imprime la frase:\n",
    "\n",
    "$$\n",
    "\\texttt{C:\\Julia}\n",
    "$$\n",
    "\n",
    "\n",
    "\n",
    "</div>"
   ]
  },
  {
   "cell_type": "code",
   "execution_count": null,
   "metadata": {},
   "outputs": [],
   "source": []
  },
  {
   "cell_type": "markdown",
   "metadata": {
    "slideshow": {
     "slide_type": "slide"
    }
   },
   "source": [
    "### Otra forma de solucionar el problema de las comillas\n",
    "\n",
    "Para escribir comillas dentro de un texto, podemos utilizar **comillas triples** para delimitar el texto. En dicho caso podemos utilizar comillas en el texto."
   ]
  },
  {
   "cell_type": "markdown",
   "metadata": {
    "slideshow": {
     "slide_type": "slide"
    }
   },
   "source": [
    "<div class=\"alert alert-success\">\n",
    "<font size=\"5\">\n",
    "    \n",
    "Imprime la frase, utilizando comillas triples:\n",
    "\n",
    "$$\n",
    "\\texttt{\"Julia\" es un lenguaje}\n",
    "$$\n",
    "\n",
    "</div>"
   ]
  },
  {
   "cell_type": "code",
   "execution_count": null,
   "metadata": {},
   "outputs": [],
   "source": []
  },
  {
   "cell_type": "markdown",
   "metadata": {
    "slideshow": {
     "slide_type": "slide"
    }
   },
   "source": [
    "<center><h1>Fin</h1></center>\n",
    "<center><small>github.com/jltabara/JuliaBasico</small></center>"
   ]
  },
  {
   "cell_type": "code",
   "execution_count": null,
   "metadata": {
    "slideshow": {
     "slide_type": "slide"
    }
   },
   "outputs": [],
   "source": []
  }
 ],
 "metadata": {
  "celltoolbar": "Slideshow",
  "kernelspec": {
   "display_name": "Julia 1.1.0",
   "language": "julia",
   "name": "julia-1.1"
  },
  "language_info": {
   "file_extension": ".jl",
   "mimetype": "application/julia",
   "name": "julia",
   "version": "1.1.0"
  },
  "varInspector": {
   "cols": {
    "lenName": 16,
    "lenType": 16,
    "lenVar": 40
   },
   "kernels_config": {
    "python": {
     "delete_cmd_postfix": "",
     "delete_cmd_prefix": "del ",
     "library": "var_list.py",
     "varRefreshCmd": "print(var_dic_list())"
    },
    "r": {
     "delete_cmd_postfix": ") ",
     "delete_cmd_prefix": "rm(",
     "library": "var_list.r",
     "varRefreshCmd": "cat(var_dic_list()) "
    }
   },
   "types_to_exclude": [
    "module",
    "function",
    "builtin_function_or_method",
    "instance",
    "_Feature"
   ],
   "window_display": false
  }
 },
 "nbformat": 4,
 "nbformat_minor": 2
}
